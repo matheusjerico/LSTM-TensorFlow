{
 "cells": [
  {
   "cell_type": "markdown",
   "metadata": {},
   "source": [
    "# Desafio: Predição de valores da variável Withdrawal Amount - STEFANINI\n",
    "\n",
    "### Autor: Matheus Jericó Palhares\n",
    "### e-mail: matheusjerico1994@hotmail.com\n",
    "### data: 18/07/2019"
   ]
  },
  {
   "cell_type": "markdown",
   "metadata": {},
   "source": [
    "#### Definição do dataset:\n",
    "- Account No. - representa o número da conta envolvida na transação.\n",
    "- Date - data da transação.\n",
    "- Transaction Details - narrações de transação em extratos bancários.\n",
    "- Cheque No. - indica o número do cheque.\n",
    "- Value Date - Data de conclusão da transação.\n",
    "- Withdrawal Amount - Indica o montante retirado.\n",
    "- Deposit Amount - Indica o valor depositado.\n",
    "- Balance Amount - saldo atual da conta."
   ]
  },
  {
   "cell_type": "markdown",
   "metadata": {},
   "source": [
    "## DESAFIO: Predição de valores da variável Withdrawal Amount"
   ]
  },
  {
   "cell_type": "markdown",
   "metadata": {},
   "source": [
    "#### Importando bibliotecas"
   ]
  },
  {
   "cell_type": "code",
   "execution_count": 1,
   "metadata": {},
   "outputs": [],
   "source": [
    "import pandas as pd\n",
    "import matplotlib.pyplot as plt\n",
    "import numpy as np\n",
    "from sklearn.preprocessing import MinMaxScaler\n",
    "import tensorflow as tf\n",
    "import seaborn as sns\n",
    "%matplotlib inline"
   ]
  },
  {
   "cell_type": "markdown",
   "metadata": {},
   "source": [
    "#### 1. Importando dataset"
   ]
  },
  {
   "cell_type": "code",
   "execution_count": 2,
   "metadata": {},
   "outputs": [
    {
     "name": "stderr",
     "output_type": "stream",
     "text": [
      "/home/matheusjerico/anaconda3/lib/python3.6/site-packages/ipykernel_launcher.py:3: FutureWarning: read_table is deprecated, use read_csv instead.\n",
      "  This is separate from the ipykernel package so we can avoid doing imports until\n"
     ]
    }
   ],
   "source": [
    "path_csv = '/home/matheusjerico/Documentos/IA/Desafio_LSTM/bank.csv'\n",
    "\n",
    "dataset = pd.read_table(path_csv, sep=',')"
   ]
  },
  {
   "cell_type": "markdown",
   "metadata": {},
   "source": [
    "#### 2. Pré Processamento dos dados"
   ]
  },
  {
   "cell_type": "code",
   "execution_count": 3,
   "metadata": {},
   "outputs": [
    {
     "data": {
      "text/html": [
       "<div>\n",
       "<style scoped>\n",
       "    .dataframe tbody tr th:only-of-type {\n",
       "        vertical-align: middle;\n",
       "    }\n",
       "\n",
       "    .dataframe tbody tr th {\n",
       "        vertical-align: top;\n",
       "    }\n",
       "\n",
       "    .dataframe thead th {\n",
       "        text-align: right;\n",
       "    }\n",
       "</style>\n",
       "<table border=\"1\" class=\"dataframe\">\n",
       "  <thead>\n",
       "    <tr style=\"text-align: right;\">\n",
       "      <th></th>\n",
       "      <th>Account No</th>\n",
       "      <th>DATE</th>\n",
       "      <th>TRANSACTION DETAILS</th>\n",
       "      <th>CHQ.NO.</th>\n",
       "      <th>VALUE DATE</th>\n",
       "      <th>WITHDRAWAL AMT</th>\n",
       "      <th>DEPOSIT AMT</th>\n",
       "      <th>BALANCE AMT</th>\n",
       "      <th>.</th>\n",
       "    </tr>\n",
       "  </thead>\n",
       "  <tbody>\n",
       "    <tr>\n",
       "      <th>0</th>\n",
       "      <td>409000611074'</td>\n",
       "      <td>29/jun/17</td>\n",
       "      <td>TRF FROM  Indiaforensic SERVICES</td>\n",
       "      <td>NaN</td>\n",
       "      <td>29/jun/17</td>\n",
       "      <td>NaN</td>\n",
       "      <td>1.000.000,00</td>\n",
       "      <td>1.000.000,00</td>\n",
       "      <td>.</td>\n",
       "    </tr>\n",
       "    <tr>\n",
       "      <th>1</th>\n",
       "      <td>409000611074'</td>\n",
       "      <td>5/jul/17</td>\n",
       "      <td>TRF FROM  Indiaforensic SERVICES</td>\n",
       "      <td>NaN</td>\n",
       "      <td>5/jul/17</td>\n",
       "      <td>NaN</td>\n",
       "      <td>1.000.000,00</td>\n",
       "      <td>2.000.000,00</td>\n",
       "      <td>.</td>\n",
       "    </tr>\n",
       "    <tr>\n",
       "      <th>2</th>\n",
       "      <td>409000611074'</td>\n",
       "      <td>18/jul/17</td>\n",
       "      <td>FDRL/INTERNAL FUND TRANSFE</td>\n",
       "      <td>NaN</td>\n",
       "      <td>18/jul/17</td>\n",
       "      <td>NaN</td>\n",
       "      <td>500.000,00</td>\n",
       "      <td>2.500.000,00</td>\n",
       "      <td>.</td>\n",
       "    </tr>\n",
       "    <tr>\n",
       "      <th>3</th>\n",
       "      <td>409000611074'</td>\n",
       "      <td>1/ago/17</td>\n",
       "      <td>TRF FRM  Indiaforensic SERVICES</td>\n",
       "      <td>NaN</td>\n",
       "      <td>1/ago/17</td>\n",
       "      <td>NaN</td>\n",
       "      <td>3.000.000,00</td>\n",
       "      <td>5.500.000,00</td>\n",
       "      <td>.</td>\n",
       "    </tr>\n",
       "    <tr>\n",
       "      <th>4</th>\n",
       "      <td>409000611074'</td>\n",
       "      <td>16/ago/17</td>\n",
       "      <td>FDRL/INTERNAL FUND TRANSFE</td>\n",
       "      <td>NaN</td>\n",
       "      <td>16/ago/17</td>\n",
       "      <td>NaN</td>\n",
       "      <td>500.000,00</td>\n",
       "      <td>6.000.000,00</td>\n",
       "      <td>.</td>\n",
       "    </tr>\n",
       "  </tbody>\n",
       "</table>\n",
       "</div>"
      ],
      "text/plain": [
       "      Account No       DATE               TRANSACTION DETAILS  CHQ.NO.  \\\n",
       "0  409000611074'  29/jun/17  TRF FROM  Indiaforensic SERVICES      NaN   \n",
       "1  409000611074'   5/jul/17  TRF FROM  Indiaforensic SERVICES      NaN   \n",
       "2  409000611074'  18/jul/17        FDRL/INTERNAL FUND TRANSFE      NaN   \n",
       "3  409000611074'   1/ago/17   TRF FRM  Indiaforensic SERVICES      NaN   \n",
       "4  409000611074'  16/ago/17        FDRL/INTERNAL FUND TRANSFE      NaN   \n",
       "\n",
       "  VALUE DATE  WITHDRAWAL AMT     DEPOSIT AMT      BALANCE AMT  .  \n",
       "0  29/jun/17              NaN   1.000.000,00    1.000.000,00   .  \n",
       "1   5/jul/17              NaN   1.000.000,00    2.000.000,00   .  \n",
       "2  18/jul/17              NaN     500.000,00    2.500.000,00   .  \n",
       "3   1/ago/17              NaN   3.000.000,00    5.500.000,00   .  \n",
       "4  16/ago/17              NaN     500.000,00    6.000.000,00   .  "
      ]
     },
     "execution_count": 3,
     "metadata": {},
     "output_type": "execute_result"
    }
   ],
   "source": [
    "dataset.head()"
   ]
  },
  {
   "cell_type": "code",
   "execution_count": 4,
   "metadata": {},
   "outputs": [
    {
     "data": {
      "text/plain": [
       "(116201, 9)"
      ]
     },
     "execution_count": 4,
     "metadata": {},
     "output_type": "execute_result"
    }
   ],
   "source": [
    "dataset.shape"
   ]
  },
  {
   "cell_type": "markdown",
   "metadata": {},
   "source": [
    "#### 2.1. Renomeando as colunas"
   ]
  },
  {
   "cell_type": "code",
   "execution_count": 5,
   "metadata": {},
   "outputs": [],
   "source": [
    "dataset = dataset.rename(columns={'Account No':'ACCOUNT_NO', 'DATE':'DATE', 'TRANSACTION DETAILS':'TRANSACTION_DETAILS',\n",
    "                                'CHQ.NO.':'CHQ_NO','VALUE DATE':'VALUE_DATE',\n",
    "                                ' WITHDRAWAL AMT ':'WITHDRAWAL_AMT',' DEPOSIT AMT ':'DEPOSIT_AMT',\n",
    "                                'BALANCE AMT':'BALANCE_AMT', '.':'.'})"
   ]
  },
  {
   "cell_type": "markdown",
   "metadata": {},
   "source": [
    "#### 2.2. Visualizando dados faltantes"
   ]
  },
  {
   "cell_type": "code",
   "execution_count": 6,
   "metadata": {},
   "outputs": [
    {
     "data": {
      "text/plain": [
       "ACCOUNT_NO                  0\n",
       "DATE                        0\n",
       "TRANSACTION_DETAILS      2499\n",
       "CHQ_NO                 115296\n",
       "VALUE_DATE                  0\n",
       "WITHDRAWAL_AMT          62652\n",
       "DEPOSIT_AMT             53549\n",
       "BALANCE_AMT                 0\n",
       ".                           0\n",
       "dtype: int64"
      ]
     },
     "execution_count": 6,
     "metadata": {},
     "output_type": "execute_result"
    }
   ],
   "source": [
    "dataset.isna().sum()"
   ]
  },
  {
   "cell_type": "code",
   "execution_count": 7,
   "metadata": {},
   "outputs": [
    {
     "data": {
      "text/plain": [
       "<matplotlib.axes._subplots.AxesSubplot at 0x7f746d0f0be0>"
      ]
     },
     "execution_count": 7,
     "metadata": {},
     "output_type": "execute_result"
    },
    {
     "data": {
      "image/png": "[encoded data removed]",
      "text/plain": [
       "<Figure size 432x288 with 2 Axes>"
      ]
     },
     "metadata": {
      "needs_background": "light"
     },
     "output_type": "display_data"
    }
   ],
   "source": [
    "sns.heatmap(dataset.isna())"
   ]
  },
  {
   "cell_type": "markdown",
   "metadata": {},
   "source": [
    "#### 2.3. Análise Exploratória"
   ]
  },
  {
   "cell_type": "code",
   "execution_count": 8,
   "metadata": {},
   "outputs": [],
   "source": [
    "# Removendo coluna insignificante\n",
    "df = dataset.drop(columns=['.'])"
   ]
  },
  {
   "cell_type": "code",
   "execution_count": 9,
   "metadata": {},
   "outputs": [
    {
     "data": {
      "text/html": [
       "<div>\n",
       "<style scoped>\n",
       "    .dataframe tbody tr th:only-of-type {\n",
       "        vertical-align: middle;\n",
       "    }\n",
       "\n",
       "    .dataframe tbody tr th {\n",
       "        vertical-align: top;\n",
       "    }\n",
       "\n",
       "    .dataframe thead th {\n",
       "        text-align: right;\n",
       "    }\n",
       "</style>\n",
       "<table border=\"1\" class=\"dataframe\">\n",
       "  <thead>\n",
       "    <tr style=\"text-align: right;\">\n",
       "      <th></th>\n",
       "      <th>ACCOUNT_NO</th>\n",
       "      <th>DATE</th>\n",
       "      <th>TRANSACTION_DETAILS</th>\n",
       "      <th>CHQ_NO</th>\n",
       "      <th>VALUE_DATE</th>\n",
       "      <th>WITHDRAWAL_AMT</th>\n",
       "      <th>DEPOSIT_AMT</th>\n",
       "      <th>BALANCE_AMT</th>\n",
       "    </tr>\n",
       "  </thead>\n",
       "  <tbody>\n",
       "    <tr>\n",
       "      <th>0</th>\n",
       "      <td>409000611074'</td>\n",
       "      <td>29/jun/17</td>\n",
       "      <td>TRF FROM  Indiaforensic SERVICES</td>\n",
       "      <td>NaN</td>\n",
       "      <td>29/jun/17</td>\n",
       "      <td>NaN</td>\n",
       "      <td>1.000.000,00</td>\n",
       "      <td>1.000.000,00</td>\n",
       "    </tr>\n",
       "    <tr>\n",
       "      <th>1</th>\n",
       "      <td>409000611074'</td>\n",
       "      <td>5/jul/17</td>\n",
       "      <td>TRF FROM  Indiaforensic SERVICES</td>\n",
       "      <td>NaN</td>\n",
       "      <td>5/jul/17</td>\n",
       "      <td>NaN</td>\n",
       "      <td>1.000.000,00</td>\n",
       "      <td>2.000.000,00</td>\n",
       "    </tr>\n",
       "  </tbody>\n",
       "</table>\n",
       "</div>"
      ],
      "text/plain": [
       "      ACCOUNT_NO       DATE               TRANSACTION_DETAILS  CHQ_NO  \\\n",
       "0  409000611074'  29/jun/17  TRF FROM  Indiaforensic SERVICES     NaN   \n",
       "1  409000611074'   5/jul/17  TRF FROM  Indiaforensic SERVICES     NaN   \n",
       "\n",
       "  VALUE_DATE WITHDRAWAL_AMT     DEPOSIT_AMT     BALANCE_AMT  \n",
       "0  29/jun/17            NaN   1.000.000,00    1.000.000,00   \n",
       "1   5/jul/17            NaN   1.000.000,00    2.000.000,00   "
      ]
     },
     "execution_count": 9,
     "metadata": {},
     "output_type": "execute_result"
    }
   ],
   "source": [
    "df.head(2)"
   ]
  },
  {
   "cell_type": "markdown",
   "metadata": {},
   "source": [
    "#### 2.3.1 Alterando valores numéricos em formato string para formato float\n",
    "\n",
    "- Os valores das colunas WITHDRAWAL_AMT, DEPOSIT_AMT e BALANCE_AMT estão como string e com 'espaço' no início e no final.\n",
    "- Dessa forma, vou remover os 'espaços' antes e depois do número em formato string.\n",
    "- Vou retirar os 'pontos' dos dígitos e substituir a 'vírgula' por 'ponto'\n",
    "- Transformar em float"
   ]
  },
  {
   "cell_type": "code",
   "execution_count": 10,
   "metadata": {},
   "outputs": [],
   "source": [
    "df['WITHDRAWAL_AMT'] =df['WITHDRAWAL_AMT'].replace('\\.','',regex=True).replace(',','.', regex=True).astype(float)\n",
    "df['DEPOSIT_AMT'] =df['DEPOSIT_AMT'].replace('\\.','',regex=True).replace(',','.', regex=True).astype(float)\n",
    "df['BALANCE_AMT'] =df['BALANCE_AMT'].replace('\\.','',regex=True).replace(',','.', regex=True).astype(float)\n"
   ]
  },
  {
   "cell_type": "code",
   "execution_count": 11,
   "metadata": {},
   "outputs": [
    {
     "name": "stdout",
     "output_type": "stream",
     "text": [
      "<class 'pandas.core.frame.DataFrame'>\n",
      "RangeIndex: 116201 entries, 0 to 116200\n",
      "Data columns (total 8 columns):\n",
      "ACCOUNT_NO             116201 non-null object\n",
      "DATE                   116201 non-null object\n",
      "TRANSACTION_DETAILS    113702 non-null object\n",
      "CHQ_NO                 905 non-null float64\n",
      "VALUE_DATE             116201 non-null object\n",
      "WITHDRAWAL_AMT         53549 non-null float64\n",
      "DEPOSIT_AMT            62652 non-null float64\n",
      "BALANCE_AMT            116201 non-null float64\n",
      "dtypes: float64(4), object(4)\n",
      "memory usage: 7.1+ MB\n"
     ]
    }
   ],
   "source": [
    "df.info()"
   ]
  },
  {
   "cell_type": "markdown",
   "metadata": {},
   "source": [
    "Visualizando o cabeçalho com a modificação"
   ]
  },
  {
   "cell_type": "code",
   "execution_count": 12,
   "metadata": {},
   "outputs": [
    {
     "data": {
      "text/html": [
       "<div>\n",
       "<style scoped>\n",
       "    .dataframe tbody tr th:only-of-type {\n",
       "        vertical-align: middle;\n",
       "    }\n",
       "\n",
       "    .dataframe tbody tr th {\n",
       "        vertical-align: top;\n",
       "    }\n",
       "\n",
       "    .dataframe thead th {\n",
       "        text-align: right;\n",
       "    }\n",
       "</style>\n",
       "<table border=\"1\" class=\"dataframe\">\n",
       "  <thead>\n",
       "    <tr style=\"text-align: right;\">\n",
       "      <th></th>\n",
       "      <th>ACCOUNT_NO</th>\n",
       "      <th>DATE</th>\n",
       "      <th>TRANSACTION_DETAILS</th>\n",
       "      <th>CHQ_NO</th>\n",
       "      <th>VALUE_DATE</th>\n",
       "      <th>WITHDRAWAL_AMT</th>\n",
       "      <th>DEPOSIT_AMT</th>\n",
       "      <th>BALANCE_AMT</th>\n",
       "    </tr>\n",
       "  </thead>\n",
       "  <tbody>\n",
       "    <tr>\n",
       "      <th>0</th>\n",
       "      <td>409000611074'</td>\n",
       "      <td>29/jun/17</td>\n",
       "      <td>TRF FROM  Indiaforensic SERVICES</td>\n",
       "      <td>NaN</td>\n",
       "      <td>29/jun/17</td>\n",
       "      <td>NaN</td>\n",
       "      <td>1000000.0</td>\n",
       "      <td>1000000.0</td>\n",
       "    </tr>\n",
       "    <tr>\n",
       "      <th>1</th>\n",
       "      <td>409000611074'</td>\n",
       "      <td>5/jul/17</td>\n",
       "      <td>TRF FROM  Indiaforensic SERVICES</td>\n",
       "      <td>NaN</td>\n",
       "      <td>5/jul/17</td>\n",
       "      <td>NaN</td>\n",
       "      <td>1000000.0</td>\n",
       "      <td>2000000.0</td>\n",
       "    </tr>\n",
       "    <tr>\n",
       "      <th>2</th>\n",
       "      <td>409000611074'</td>\n",
       "      <td>18/jul/17</td>\n",
       "      <td>FDRL/INTERNAL FUND TRANSFE</td>\n",
       "      <td>NaN</td>\n",
       "      <td>18/jul/17</td>\n",
       "      <td>NaN</td>\n",
       "      <td>500000.0</td>\n",
       "      <td>2500000.0</td>\n",
       "    </tr>\n",
       "  </tbody>\n",
       "</table>\n",
       "</div>"
      ],
      "text/plain": [
       "      ACCOUNT_NO       DATE               TRANSACTION_DETAILS  CHQ_NO  \\\n",
       "0  409000611074'  29/jun/17  TRF FROM  Indiaforensic SERVICES     NaN   \n",
       "1  409000611074'   5/jul/17  TRF FROM  Indiaforensic SERVICES     NaN   \n",
       "2  409000611074'  18/jul/17        FDRL/INTERNAL FUND TRANSFE     NaN   \n",
       "\n",
       "  VALUE_DATE  WITHDRAWAL_AMT  DEPOSIT_AMT  BALANCE_AMT  \n",
       "0  29/jun/17             NaN    1000000.0    1000000.0  \n",
       "1   5/jul/17             NaN    1000000.0    2000000.0  \n",
       "2  18/jul/17             NaN     500000.0    2500000.0  "
      ]
     },
     "execution_count": 12,
     "metadata": {},
     "output_type": "execute_result"
    }
   ],
   "source": [
    "df.head(3)"
   ]
  },
  {
   "cell_type": "markdown",
   "metadata": {},
   "source": [
    "#### 2.3.2 Limpando colunas\n",
    "- Alterando valores NaN da coluna TRANSACTION_DETAILS por 'blank' para futuro encoder;\n",
    "- Remover valores NaN da coluna WITHDRAWAL_AMT (preditor);\n",
    "- Remover colunas do CHQ_NO (muitos valores em branco) e DEPOSIT_AMT (não ocorre quando ocorre WITHDRAWAL_AMT ."
   ]
  },
  {
   "cell_type": "code",
   "execution_count": 13,
   "metadata": {},
   "outputs": [],
   "source": [
    "df.TRANSACTION_DETAILS = df.TRANSACTION_DETAILS.fillna('blank')\n",
    "df = df.dropna(subset=['WITHDRAWAL_AMT'])\n",
    "df = df.drop(columns=['DEPOSIT_AMT', 'CHQ_NO'])"
   ]
  },
  {
   "cell_type": "markdown",
   "metadata": {},
   "source": [
    "#### 2.3.3 Alterando os valores das datas para posterior categorização utilizando dia e mês\n",
    "- A análise é para descobrir se existe alguma correlação entre o WITHDRAWAL com o dia e mês\n",
    "- Sabe ser as transações tem um padrão mensal."
   ]
  },
  {
   "cell_type": "code",
   "execution_count": 14,
   "metadata": {},
   "outputs": [],
   "source": [
    "df.DATE = df.DATE.str[:-3]\n",
    "df.VALUE_DATE = df.VALUE_DATE.str[:-3]"
   ]
  },
  {
   "cell_type": "code",
   "execution_count": 15,
   "metadata": {},
   "outputs": [
    {
     "data": {
      "text/html": [
       "<div>\n",
       "<style scoped>\n",
       "    .dataframe tbody tr th:only-of-type {\n",
       "        vertical-align: middle;\n",
       "    }\n",
       "\n",
       "    .dataframe tbody tr th {\n",
       "        vertical-align: top;\n",
       "    }\n",
       "\n",
       "    .dataframe thead th {\n",
       "        text-align: right;\n",
       "    }\n",
       "</style>\n",
       "<table border=\"1\" class=\"dataframe\">\n",
       "  <thead>\n",
       "    <tr style=\"text-align: right;\">\n",
       "      <th></th>\n",
       "      <th>ACCOUNT_NO</th>\n",
       "      <th>DATE</th>\n",
       "      <th>TRANSACTION_DETAILS</th>\n",
       "      <th>VALUE_DATE</th>\n",
       "      <th>WITHDRAWAL_AMT</th>\n",
       "      <th>BALANCE_AMT</th>\n",
       "    </tr>\n",
       "  </thead>\n",
       "  <tbody>\n",
       "    <tr>\n",
       "      <th>10</th>\n",
       "      <td>409000611074'</td>\n",
       "      <td>16/ago</td>\n",
       "      <td>INDO GIBL Indiaforensic STL01071</td>\n",
       "      <td>16/ago</td>\n",
       "      <td>133900.0</td>\n",
       "      <td>8366100.0</td>\n",
       "    </tr>\n",
       "    <tr>\n",
       "      <th>11</th>\n",
       "      <td>409000611074'</td>\n",
       "      <td>16/ago</td>\n",
       "      <td>INDO GIBL Indiaforensic STL02071</td>\n",
       "      <td>16/ago</td>\n",
       "      <td>18000.0</td>\n",
       "      <td>8348100.0</td>\n",
       "    </tr>\n",
       "    <tr>\n",
       "      <th>12</th>\n",
       "      <td>409000611074'</td>\n",
       "      <td>16/ago</td>\n",
       "      <td>INDO GIBL Indiaforensic STL03071</td>\n",
       "      <td>16/ago</td>\n",
       "      <td>5000.0</td>\n",
       "      <td>8343100.0</td>\n",
       "    </tr>\n",
       "  </tbody>\n",
       "</table>\n",
       "</div>"
      ],
      "text/plain": [
       "       ACCOUNT_NO    DATE               TRANSACTION_DETAILS VALUE_DATE  \\\n",
       "10  409000611074'  16/ago  INDO GIBL Indiaforensic STL01071     16/ago   \n",
       "11  409000611074'  16/ago  INDO GIBL Indiaforensic STL02071     16/ago   \n",
       "12  409000611074'  16/ago  INDO GIBL Indiaforensic STL03071     16/ago   \n",
       "\n",
       "    WITHDRAWAL_AMT  BALANCE_AMT  \n",
       "10        133900.0    8366100.0  \n",
       "11         18000.0    8348100.0  \n",
       "12          5000.0    8343100.0  "
      ]
     },
     "execution_count": 15,
     "metadata": {},
     "output_type": "execute_result"
    }
   ],
   "source": [
    "df.head(3)"
   ]
  },
  {
   "cell_type": "markdown",
   "metadata": {},
   "source": [
    "#### 2.3.4 Manipulando a variável TRANSACTION_DETAILS\n",
    "- Extrair apenas as 4 primeiras letras da TRANSACTION_DETAILS para decobrir futura correlação"
   ]
  },
  {
   "cell_type": "code",
   "execution_count": 16,
   "metadata": {},
   "outputs": [],
   "source": [
    "df.TRANSACTION_DETAILS = df.TRANSACTION_DETAILS.str[:4]"
   ]
  },
  {
   "cell_type": "markdown",
   "metadata": {},
   "source": [
    "Visualizar quantidades unicas de cada coluna com valores em formato string"
   ]
  },
  {
   "cell_type": "code",
   "execution_count": 17,
   "metadata": {},
   "outputs": [
    {
     "name": "stdout",
     "output_type": "stream",
     "text": [
      "10\n",
      "364\n",
      "455\n",
      "363\n"
     ]
    }
   ],
   "source": [
    "print(len(df.ACCOUNT_NO.unique()))\n",
    "print(len(df.DATE.unique()))\n",
    "print(len(df.TRANSACTION_DETAILS.unique()))\n",
    "print(len(df.VALUE_DATE.unique()))"
   ]
  },
  {
   "cell_type": "markdown",
   "metadata": {},
   "source": [
    "#### 2.3.5 Categorizando as colunas que possuem valores em formato string.\n",
    "\n",
    "- Verificar se existe correlação entre as colunas e a variável TARGET (WITHDRAWAL_AMT)"
   ]
  },
  {
   "cell_type": "code",
   "execution_count": 18,
   "metadata": {},
   "outputs": [],
   "source": [
    "from sklearn.preprocessing import LabelEncoder"
   ]
  },
  {
   "cell_type": "code",
   "execution_count": 19,
   "metadata": {},
   "outputs": [],
   "source": [
    "le = LabelEncoder()\n",
    "df.ACCOUNT_NO = le.fit_transform(df.ACCOUNT_NO)\n",
    "df.DATE = le.fit_transform(df.DATE)\n",
    "df.TRANSACTION_DETAILS = le.fit_transform(df.TRANSACTION_DETAILS)\n",
    "df.VALUE_DATE = le.fit_transform(df.VALUE_DATE)"
   ]
  },
  {
   "cell_type": "markdown",
   "metadata": {},
   "source": [
    "#### 2.3.6 Correlação entre variáveis.\n",
    "\n",
    "- Verificar se existe correlação entre as colunas e a variável TARGET (WITHDRAWAL_AMT) com as demais"
   ]
  },
  {
   "cell_type": "code",
   "execution_count": 20,
   "metadata": {},
   "outputs": [
    {
     "data": {
      "text/html": [
       "<div>\n",
       "<style scoped>\n",
       "    .dataframe tbody tr th:only-of-type {\n",
       "        vertical-align: middle;\n",
       "    }\n",
       "\n",
       "    .dataframe tbody tr th {\n",
       "        vertical-align: top;\n",
       "    }\n",
       "\n",
       "    .dataframe thead th {\n",
       "        text-align: right;\n",
       "    }\n",
       "</style>\n",
       "<table border=\"1\" class=\"dataframe\">\n",
       "  <thead>\n",
       "    <tr style=\"text-align: right;\">\n",
       "      <th></th>\n",
       "      <th>ACCOUNT_NO</th>\n",
       "      <th>DATE</th>\n",
       "      <th>TRANSACTION_DETAILS</th>\n",
       "      <th>VALUE_DATE</th>\n",
       "      <th>WITHDRAWAL_AMT</th>\n",
       "      <th>BALANCE_AMT</th>\n",
       "    </tr>\n",
       "  </thead>\n",
       "  <tbody>\n",
       "    <tr>\n",
       "      <th>ACCOUNT_NO</th>\n",
       "      <td>1.000000</td>\n",
       "      <td>-0.028876</td>\n",
       "      <td>-0.039895</td>\n",
       "      <td>-0.028963</td>\n",
       "      <td>-0.165416</td>\n",
       "      <td>0.886932</td>\n",
       "    </tr>\n",
       "    <tr>\n",
       "      <th>DATE</th>\n",
       "      <td>-0.028876</td>\n",
       "      <td>1.000000</td>\n",
       "      <td>-0.002394</td>\n",
       "      <td>0.999409</td>\n",
       "      <td>-0.003755</td>\n",
       "      <td>-0.023285</td>\n",
       "    </tr>\n",
       "    <tr>\n",
       "      <th>TRANSACTION_DETAILS</th>\n",
       "      <td>-0.039895</td>\n",
       "      <td>-0.002394</td>\n",
       "      <td>1.000000</td>\n",
       "      <td>-0.002393</td>\n",
       "      <td>0.158852</td>\n",
       "      <td>-0.107037</td>\n",
       "    </tr>\n",
       "    <tr>\n",
       "      <th>VALUE_DATE</th>\n",
       "      <td>-0.028963</td>\n",
       "      <td>0.999409</td>\n",
       "      <td>-0.002393</td>\n",
       "      <td>1.000000</td>\n",
       "      <td>-0.004276</td>\n",
       "      <td>-0.023325</td>\n",
       "    </tr>\n",
       "    <tr>\n",
       "      <th>WITHDRAWAL_AMT</th>\n",
       "      <td>-0.165416</td>\n",
       "      <td>-0.003755</td>\n",
       "      <td>0.158852</td>\n",
       "      <td>-0.004276</td>\n",
       "      <td>1.000000</td>\n",
       "      <td>-0.153841</td>\n",
       "    </tr>\n",
       "    <tr>\n",
       "      <th>BALANCE_AMT</th>\n",
       "      <td>0.886932</td>\n",
       "      <td>-0.023285</td>\n",
       "      <td>-0.107037</td>\n",
       "      <td>-0.023325</td>\n",
       "      <td>-0.153841</td>\n",
       "      <td>1.000000</td>\n",
       "    </tr>\n",
       "  </tbody>\n",
       "</table>\n",
       "</div>"
      ],
      "text/plain": [
       "                     ACCOUNT_NO      DATE  TRANSACTION_DETAILS  VALUE_DATE  \\\n",
       "ACCOUNT_NO             1.000000 -0.028876            -0.039895   -0.028963   \n",
       "DATE                  -0.028876  1.000000            -0.002394    0.999409   \n",
       "TRANSACTION_DETAILS   -0.039895 -0.002394             1.000000   -0.002393   \n",
       "VALUE_DATE            -0.028963  0.999409            -0.002393    1.000000   \n",
       "WITHDRAWAL_AMT        -0.165416 -0.003755             0.158852   -0.004276   \n",
       "BALANCE_AMT            0.886932 -0.023285            -0.107037   -0.023325   \n",
       "\n",
       "                     WITHDRAWAL_AMT  BALANCE_AMT  \n",
       "ACCOUNT_NO                -0.165416     0.886932  \n",
       "DATE                      -0.003755    -0.023285  \n",
       "TRANSACTION_DETAILS        0.158852    -0.107037  \n",
       "VALUE_DATE                -0.004276    -0.023325  \n",
       "WITHDRAWAL_AMT             1.000000    -0.153841  \n",
       "BALANCE_AMT               -0.153841     1.000000  "
      ]
     },
     "execution_count": 20,
     "metadata": {},
     "output_type": "execute_result"
    }
   ],
   "source": [
    "cor = df.corr()\n",
    "cor"
   ]
  },
  {
   "cell_type": "code",
   "execution_count": 21,
   "metadata": {},
   "outputs": [
    {
     "data": {
      "text/plain": [
       "<matplotlib.axes._subplots.AxesSubplot at 0x7f746cd744e0>"
      ]
     },
     "execution_count": 21,
     "metadata": {},
     "output_type": "execute_result"
    },
    {
     "data": {
      "image/png": "[encoded data removed]",
      "text/plain": [
       "<Figure size 432x288 with 2 Axes>"
      ]
     },
     "metadata": {
      "needs_background": "light"
     },
     "output_type": "display_data"
    }
   ],
   "source": [
    "sns.heatmap(df.corr())"
   ]
  },
  {
   "cell_type": "markdown",
   "metadata": {},
   "source": [
    "Verifica-se que a correlação da variável WITHDRAWAL_AMT com as demais variaveis é muito baixa"
   ]
  },
  {
   "cell_type": "markdown",
   "metadata": {},
   "source": [
    "#### 2.3.6 Removendo colunas\n"
   ]
  },
  {
   "cell_type": "code",
   "execution_count": 22,
   "metadata": {},
   "outputs": [],
   "source": [
    "# Removendo colunas\n",
    "df = df.drop(columns=['DATE', 'VALUE_DATE', 'ACCOUNT_NO','BALANCE_AMT', 'TRANSACTION_DETAILS'])\n",
    "# Resetando index\n",
    "df = df.reset_index(drop=True)"
   ]
  },
  {
   "cell_type": "code",
   "execution_count": 23,
   "metadata": {},
   "outputs": [
    {
     "data": {
      "text/html": [
       "<div>\n",
       "<style scoped>\n",
       "    .dataframe tbody tr th:only-of-type {\n",
       "        vertical-align: middle;\n",
       "    }\n",
       "\n",
       "    .dataframe tbody tr th {\n",
       "        vertical-align: top;\n",
       "    }\n",
       "\n",
       "    .dataframe thead th {\n",
       "        text-align: right;\n",
       "    }\n",
       "</style>\n",
       "<table border=\"1\" class=\"dataframe\">\n",
       "  <thead>\n",
       "    <tr style=\"text-align: right;\">\n",
       "      <th></th>\n",
       "      <th>WITHDRAWAL_AMT</th>\n",
       "    </tr>\n",
       "  </thead>\n",
       "  <tbody>\n",
       "    <tr>\n",
       "      <th>0</th>\n",
       "      <td>133900.0</td>\n",
       "    </tr>\n",
       "    <tr>\n",
       "      <th>1</th>\n",
       "      <td>18000.0</td>\n",
       "    </tr>\n",
       "    <tr>\n",
       "      <th>2</th>\n",
       "      <td>5000.0</td>\n",
       "    </tr>\n",
       "    <tr>\n",
       "      <th>3</th>\n",
       "      <td>195800.0</td>\n",
       "    </tr>\n",
       "    <tr>\n",
       "      <th>4</th>\n",
       "      <td>81600.0</td>\n",
       "    </tr>\n",
       "  </tbody>\n",
       "</table>\n",
       "</div>"
      ],
      "text/plain": [
       "   WITHDRAWAL_AMT\n",
       "0        133900.0\n",
       "1         18000.0\n",
       "2          5000.0\n",
       "3        195800.0\n",
       "4         81600.0"
      ]
     },
     "execution_count": 23,
     "metadata": {},
     "output_type": "execute_result"
    }
   ],
   "source": [
    "df.head()"
   ]
  },
  {
   "cell_type": "code",
   "execution_count": 24,
   "metadata": {},
   "outputs": [
    {
     "name": "stdout",
     "output_type": "stream",
     "text": [
      "<class 'pandas.core.frame.DataFrame'>\n",
      "RangeIndex: 53549 entries, 0 to 53548\n",
      "Data columns (total 1 columns):\n",
      "WITHDRAWAL_AMT    53549 non-null float64\n",
      "dtypes: float64(1)\n",
      "memory usage: 418.4 KB\n"
     ]
    }
   ],
   "source": [
    "df.info()"
   ]
  },
  {
   "cell_type": "markdown",
   "metadata": {},
   "source": [
    "#### 3. Tratar dos dados para implementar LSTM"
   ]
  },
  {
   "cell_type": "markdown",
   "metadata": {},
   "source": [
    "#### 3.1. Definição memória (janela)\n",
    "Definir a memória da LSTM, utilizando o parâmetro 'n_timesteps'. Utilizo o tamanho de 100 registros, quer dizer que para obter uma nova previsão, são utilizados 100 registros anteriores como memória. Esse é o tamanho da janela.\n",
    "\n",
    "\n",
    "É necessário separar o dataset em treinamento e teste e separar cada pedaço (batch)."
   ]
  },
  {
   "cell_type": "code",
   "execution_count": 25,
   "metadata": {},
   "outputs": [],
   "source": [
    "n_timesteps = 100"
   ]
  },
  {
   "cell_type": "markdown",
   "metadata": {},
   "source": [
    "#### 3.2 Removendo valores outliers\n",
    "- Valores considerados outliers podem atrapalhar o desempho do modelo"
   ]
  },
  {
   "cell_type": "code",
   "execution_count": 26,
   "metadata": {},
   "outputs": [],
   "source": [
    "def remove_outlier(df_in, col_name):\n",
    "    q1 = df_in[col_name].quantile(0.25)\n",
    "    q3 = df_in[col_name].quantile(0.75)\n",
    "    iqr = q3-q1 #Interquartile range\n",
    "    fence_low  = q1-1.5*iqr\n",
    "    fence_high = q3+1.5*iqr\n",
    "    df_out = df_in.loc[(df_in[col_name] > fence_low) & (df_in[col_name] < fence_high)]\n",
    "    return df_out"
   ]
  },
  {
   "cell_type": "code",
   "execution_count": 27,
   "metadata": {},
   "outputs": [
    {
     "name": "stdout",
     "output_type": "stream",
     "text": [
      "Shape antes de remover valores outlier: (53549, 1)\n",
      "Shape após de remover valores outlier: (46113, 1)\n"
     ]
    }
   ],
   "source": [
    "print(\"Shape antes de remover valores outlier: {}\".format(df.shape))\n",
    "df = remove_outlier(df, 'WITHDRAWAL_AMT')\n",
    "print(\"Shape após de remover valores outlier: {}\".format(df.shape))\n"
   ]
  },
  {
   "cell_type": "code",
   "execution_count": 28,
   "metadata": {},
   "outputs": [
    {
     "name": "stdout",
     "output_type": "stream",
     "text": [
      "<class 'pandas.core.frame.DataFrame'>\n",
      "Int64Index: 46113 entries, 0 to 53548\n",
      "Data columns (total 1 columns):\n",
      "WITHDRAWAL_AMT    46113 non-null float64\n",
      "dtypes: float64(1)\n",
      "memory usage: 720.5 KB\n"
     ]
    }
   ],
   "source": [
    "df.info()"
   ]
  },
  {
   "cell_type": "markdown",
   "metadata": {},
   "source": [
    "#### 3.3 Normalizando os dados\n",
    "- A LSTM é sensível a grande variação dos dados de entrada. \n",
    "- Devido a esse problema, normalizamos os dados para valores entre 0 e 1 utilizando a função MinMaxScaler."
   ]
  },
  {
   "cell_type": "code",
   "execution_count": 29,
   "metadata": {},
   "outputs": [],
   "source": [
    "dados = np.array(df, dtype='float32')"
   ]
  },
  {
   "cell_type": "code",
   "execution_count": 30,
   "metadata": {},
   "outputs": [],
   "source": [
    "scaler = MinMaxScaler(feature_range=(0,1))"
   ]
  },
  {
   "cell_type": "code",
   "execution_count": 31,
   "metadata": {},
   "outputs": [],
   "source": [
    "dados_normalizados = scaler.fit_transform(dados)"
   ]
  },
  {
   "cell_type": "code",
   "execution_count": 32,
   "metadata": {},
   "outputs": [
    {
     "data": {
      "text/plain": [
       "[<matplotlib.lines.Line2D at 0x7f74684a3550>]"
      ]
     },
     "execution_count": 32,
     "metadata": {},
     "output_type": "execute_result"
    },
    {
     "data": {
      "image/png": "[encoded data removed]",
      "text/plain": [
       "<Figure size 432x288 with 1 Axes>"
      ]
     },
     "metadata": {
      "needs_background": "light"
     },
     "output_type": "display_data"
    }
   ],
   "source": [
    "plt.plot(dados_normalizados[:100])"
   ]
  },
  {
   "cell_type": "markdown",
   "metadata": {},
   "source": [
    "#### 3.4 Criação dos batchs e reshape dos dados para o padrão de entrada do tensorflow\n",
    "O padrão de entrada do tensorflow é:\n",
    "    - [tamanho_do_batch, tamanho_da_memoria (janela), qntd_atributos]\n",
    "    - Em cada batch teremos 'n_timesteps' registros, no caso apresentado, 30 registros.\n",
    "    \n",
    "Os dados do X e do Y tem que estar deslocados em 1 unidade, por exemplo:\n",
    "    - Se X vai de [0:50], Y tem que ir de [1:51] "
   ]
  },
  {
   "cell_type": "code",
   "execution_count": 33,
   "metadata": {},
   "outputs": [
    {
     "data": {
      "text/plain": [
       "(46113, 1)"
      ]
     },
     "execution_count": 33,
     "metadata": {},
     "output_type": "execute_result"
    }
   ],
   "source": [
    "dados_normalizados.shape"
   ]
  },
  {
   "cell_type": "code",
   "execution_count": 34,
   "metadata": {},
   "outputs": [
    {
     "name": "stdout",
     "output_type": "stream",
     "text": [
      "X.shape: (46000, 1)\n",
      "X_batch.shape: (460, 100, 1)\n"
     ]
    }
   ],
   "source": [
    "X = dados_normalizados[0:((len(dados_normalizados) - len(dados_normalizados) % n_timesteps)-n_timesteps)]\n",
    "print(\"X.shape: {}\".format(X.shape))\n",
    "# [tamanho do batch, tamanho da janela, quantidade de entradas]\n",
    "X_batch = X.reshape(-1, n_timesteps, 1)\n",
    "print(\"X_batch.shape: {}\".format(X_batch.shape))"
   ]
  },
  {
   "cell_type": "code",
   "execution_count": 35,
   "metadata": {},
   "outputs": [
    {
     "name": "stdout",
     "output_type": "stream",
     "text": [
      "Y.shape: (46000, 1)\n",
      "y_batch.shape: (460, 100, 1)\n"
     ]
    }
   ],
   "source": [
    "Y = dados_normalizados[1:((len(dados_normalizados) - len(dados_normalizados) % n_timesteps)-(n_timesteps - 1))]\n",
    "print('Y.shape: {}'.format(Y.shape))\n",
    "# [tamanho do batch, tamanho da janela, quantidade de saida]\n",
    "y_batch = Y.reshape(-1, n_timesteps, 1) \n",
    "print(\"y_batch.shape: {}\".format(y_batch.shape))"
   ]
  },
  {
   "cell_type": "markdown",
   "metadata": {},
   "source": [
    "#### 3.5 Criação e normalização dos dados de teste\n",
    "- Da mesma forma que fiz com os dados de treino, entretanto, pego os dados finais"
   ]
  },
  {
   "cell_type": "code",
   "execution_count": 36,
   "metadata": {},
   "outputs": [],
   "source": [
    "X_teste = dados[-(n_timesteps + 1):] # 101 dados finais\n",
    "X_teste = X_teste[:n_timesteps] # não pega o ultimo dado\n",
    "X_teste = scaler.transform(X_teste) # normaliza\n",
    "X_teste = X_teste.reshape(-1, n_timesteps, 1) # reshape para input do tensorflow\n",
    "\n",
    "y_teste = dados[-(n_timesteps):] # 100 dados finais\n",
    "y_teste = y_teste.reshape(-1, n_timesteps, 1) # reshape para input do tensorflow\n",
    "                                              # o y_teste não é normalizado"
   ]
  },
  {
   "cell_type": "markdown",
   "metadata": {},
   "source": [
    "#### 3. Algoritmo LSTM"
   ]
  },
  {
   "cell_type": "code",
   "execution_count": 37,
   "metadata": {},
   "outputs": [],
   "source": [
    "# reset grafo atual\n",
    "tf.reset_default_graph()"
   ]
  },
  {
   "cell_type": "markdown",
   "metadata": {},
   "source": [
    "#### 3.1 Parâmetros\n",
    "- n_inputs: quantidade de atributos previsores. Utilizou-se apenas um parâmetro (WITHDRAWAL_AMT).\n",
    "- n_nodes: quantidade de neurônios utilizados na camada ocultas. Definido após realizar alguns testes, alterando a quantidade até obter-se um bom resultado\n",
    "- n_output: quantidade de atributos de saída. Para regressão, temos apenas uma saída"
   ]
  },
  {
   "cell_type": "code",
   "execution_count": 38,
   "metadata": {},
   "outputs": [],
   "source": [
    "# nº de entradas\n",
    "n_input = 1\n",
    "# nodes da camada do LSTM\n",
    "n_nodes = 100\n",
    "# nº de saídas\n",
    "n_output = 1"
   ]
  },
  {
   "cell_type": "markdown",
   "metadata": {},
   "source": [
    "#### 3.2 Definição dos placeholders que vão receber os dados\n"
   ]
  },
  {
   "cell_type": "code",
   "execution_count": 39,
   "metadata": {},
   "outputs": [],
   "source": [
    "# Criação dos placeholders\n",
    "x = tf.placeholder(tf.float32,[None, n_timesteps, n_input])\n",
    "y = tf.placeholder(tf.float32, [None, n_timesteps, n_output])"
   ]
  },
  {
   "cell_type": "markdown",
   "metadata": {},
   "source": [
    "#### 3.3 Definição de uma célula LSTM\n",
    "- Cada célula indica uma camada oculta"
   ]
  },
  {
   "cell_type": "code",
   "execution_count": 40,
   "metadata": {},
   "outputs": [],
   "source": [
    "def criar_uma_celula():\n",
    "    # Função para criar uma célula LSTM\n",
    "    # Parâmetros: quantidade de nodes da camada (100), função de ativação (tanh)\n",
    "    \n",
    "    return tf.contrib.rnn.LSTMCell(num_units = n_nodes, activation = tf.nn.tanh)"
   ]
  },
  {
   "cell_type": "markdown",
   "metadata": {},
   "source": [
    "#### 3.4 Função para criar N células (camadas) \n",
    "- Foram criadas 3 celúlas LSTM com Dropout.\n",
    "- O uso de mais de uma célula pode melhorar os resultados.\n",
    "- A camada de Dropout evita o overfitting do modelo."
   ]
  },
  {
   "cell_type": "code",
   "execution_count": 41,
   "metadata": {},
   "outputs": [],
   "source": [
    "def crias_varias_celulas(n_celulas):\n",
    "    # Inicializo várias células\n",
    "    celulas = tf.nn.rnn_cell.MultiRNNCell([criar_uma_celula() for i in range(0, n_celulas)])\n",
    "    # Coloco droupout com valor de 0.1 \n",
    "    return tf.contrib.rnn.DropoutWrapper(celulas, input_keep_prob= 0.9) # dropout"
   ]
  },
  {
   "cell_type": "markdown",
   "metadata": {},
   "source": [
    "#### 3.5 Criando células ocultas e célula de saída\n",
    "- Criação de 3 células e 1 camada de saída;\n",
    "- Como tem 100 neurônios na camada oculta, preciso transformar em apenas um output (output_size = 1)"
   ]
  },
  {
   "cell_type": "code",
   "execution_count": 42,
   "metadata": {},
   "outputs": [
    {
     "name": "stdout",
     "output_type": "stream",
     "text": [
      "\n",
      "WARNING: The TensorFlow contrib module will not be included in TensorFlow 2.0.\n",
      "For more information, please see:\n",
      "  * https://github.com/tensorflow/community/blob/master/rfcs/20180907-contrib-sunset.md\n",
      "  * https://github.com/tensorflow/addons\n",
      "If you depend on functionality not listed there, please file an issue.\n",
      "\n",
      "WARNING:tensorflow:From <ipython-input-40-40bbab6be74d>:5: LSTMCell.__init__ (from tensorflow.python.ops.rnn_cell_impl) is deprecated and will be removed in a future version.\n",
      "Instructions for updating:\n",
      "This class is equivalent as tf.keras.layers.LSTMCell, and will be replaced by that in Tensorflow 2.0.\n",
      "WARNING:tensorflow:From <ipython-input-41-4e2cacb75cdc>:3: MultiRNNCell.__init__ (from tensorflow.python.ops.rnn_cell_impl) is deprecated and will be removed in a future version.\n",
      "Instructions for updating:\n",
      "This class is equivalent as tf.keras.layers.StackedRNNCells, and will be replaced by that in Tensorflow 2.0.\n"
     ]
    }
   ],
   "source": [
    "# Criando 3 células\n",
    "celula = crias_varias_celulas(3)\n",
    "# Criação da camada de saída,\n",
    "# Apenas uma saída, pois queremos predizer apenas um parâmetro\n",
    "celula = tf.contrib.rnn.OutputProjectionWrapper(celula, output_size= n_output)"
   ]
  },
  {
   "cell_type": "markdown",
   "metadata": {},
   "source": [
    "#### 3.6 Criação da LSTM\n",
    "- É necessário ter a saída da LSTM para calcular o erro, e posteriormente otimizar o erro das previsões.\n",
    "- saida_lstm é a saída da RN, as predições\n"
   ]
  },
  {
   "cell_type": "code",
   "execution_count": 43,
   "metadata": {},
   "outputs": [
    {
     "name": "stdout",
     "output_type": "stream",
     "text": [
      "WARNING:tensorflow:From <ipython-input-43-dc35708a6001>:1: dynamic_rnn (from tensorflow.python.ops.rnn) is deprecated and will be removed in a future version.\n",
      "Instructions for updating:\n",
      "Please use `keras.layers.RNN(cell)`, which is equivalent to this API\n",
      "WARNING:tensorflow:From /home/matheusjerico/anaconda3/lib/python3.6/site-packages/tensorflow/python/ops/tensor_array_ops.py:162: colocate_with (from tensorflow.python.framework.ops) is deprecated and will be removed in a future version.\n",
      "Instructions for updating:\n",
      "Colocations handled automatically by placer.\n",
      "WARNING:tensorflow:From /home/matheusjerico/anaconda3/lib/python3.6/site-packages/tensorflow/python/ops/rnn_cell_impl.py:1259: calling dropout (from tensorflow.python.ops.nn_ops) with keep_prob is deprecated and will be removed in a future version.\n",
      "Instructions for updating:\n",
      "Please use `rate` instead of `keep_prob`. Rate should be set to `rate = 1 - keep_prob`.\n"
     ]
    }
   ],
   "source": [
    "saida_lstm,_ = tf.nn.dynamic_rnn(celula, x, dtype=tf.float32)"
   ]
  },
  {
   "cell_type": "markdown",
   "metadata": {},
   "source": [
    "#### 3.7 Erros e métricas:\n",
    "- Função para cálculo do erro: mean_squared_error.\n",
    "- Otimizador: AdamOptimizer\n",
    "\n",
    "O otimizador mais adequado, depois de vários testes, foi o Adam com learning rate = 0.001 (valor default). A função de erro escolhida foi a MSE.\n",
    "\n"
   ]
  },
  {
   "cell_type": "code",
   "execution_count": 44,
   "metadata": {},
   "outputs": [
    {
     "name": "stdout",
     "output_type": "stream",
     "text": [
      "WARNING:tensorflow:From /home/matheusjerico/anaconda3/lib/python3.6/site-packages/tensorflow/python/ops/losses/losses_impl.py:667: to_float (from tensorflow.python.ops.math_ops) is deprecated and will be removed in a future version.\n",
      "Instructions for updating:\n",
      "Use tf.cast instead.\n"
     ]
    }
   ],
   "source": [
    "# Função para o cálculo do erro\n",
    "# Parâmetros: o labels e as predições \n",
    "erro = tf.losses.mean_squared_error(labels=y, predictions=saida_lstm)\n",
    "# Otimizador\n",
    "otimizador = tf.train.AdamOptimizer()\n",
    "# Treinamento, o objetivo é minimizar o erro\n",
    "treinamento = otimizador.minimize(erro)"
   ]
  },
  {
   "cell_type": "markdown",
   "metadata": {},
   "source": [
    "#### 3.8 Inicializando variáveis globais\n"
   ]
  },
  {
   "cell_type": "code",
   "execution_count": 45,
   "metadata": {},
   "outputs": [],
   "source": [
    "init = tf.global_variables_initializer()"
   ]
  },
  {
   "cell_type": "markdown",
   "metadata": {},
   "source": [
    "#### 3.9 Definição da quantidade de épocas"
   ]
  },
  {
   "cell_type": "code",
   "execution_count": 46,
   "metadata": {},
   "outputs": [],
   "source": [
    "epocas = 1000\n",
    "# Definição de quando mostrar as métricas\n",
    "n_display = epocas/10"
   ]
  },
  {
   "cell_type": "markdown",
   "metadata": {},
   "source": [
    "#### 4.0 Iniciando sessão do TensorFlow\n",
    "- Inicializa variáveis;\n",
    "- Loop de treinamento com duração das epocas definidas acima;\n",
    "- Rodar treinamento da rede:\n",
    "    - parâmetros: otimizador do erro, e função para cálculo do erro\n",
    "- Realizar previsão."
   ]
  },
  {
   "cell_type": "code",
   "execution_count": 47,
   "metadata": {},
   "outputs": [
    {
     "name": "stdout",
     "output_type": "stream",
     "text": [
      "Epoca: 0 \terro (MSE): 0.06963952\n",
      "Epoca: 100 \terro (MSE): 0.03580214\n",
      "Epoca: 200 \terro (MSE): 0.034357373\n",
      "Epoca: 300 \terro (MSE): 0.03370961\n",
      "Epoca: 400 \terro (MSE): 0.033230133\n",
      "Epoca: 500 \terro (MSE): 0.03251452\n",
      "Epoca: 600 \terro (MSE): 0.031731438\n",
      "Epoca: 700 \terro (MSE): 0.031318955\n",
      "Epoca: 800 \terro (MSE): 0.030713845\n",
      "Epoca: 900 \terro (MSE): 0.029616496\n",
      "Epoca: 1000 \terro (MSE): 0.028971218\n"
     ]
    }
   ],
   "source": [
    "# Inicio a sessão para treinamento e previsão\n",
    "with tf.Session() as sess:\n",
    "    sess.run(init)\n",
    "    # Loop de épocas\n",
    "    for epoca in range(epocas+1):\n",
    "        # Faço o treinamento e passo os parâmetros que são utilizados nas funções \n",
    "        # 'tf.nn.dynamic_rnn' e 'tf.losses.mean_squared_error'\n",
    "        _, loss = sess.run([treinamento, erro], feed_dict = {x: X_batch, y: y_batch})\n",
    "        if epoca % n_display == 0:\n",
    "            print('Epoca:', epoca, '\\terro (MSE):', loss)\n",
    "    \n",
    "    # Realizando predições\n",
    "    previsoes = sess.run(saida_lstm, feed_dict = {x: X_teste})"
   ]
  },
  {
   "cell_type": "markdown",
   "metadata": {},
   "source": [
    "#### 5. Resultados"
   ]
  },
  {
   "cell_type": "markdown",
   "metadata": {},
   "source": [
    "- Variáveis estão no formato tensor flow (3 dimensões), uso método ravel para diminuir suas dimensões."
   ]
  },
  {
   "cell_type": "code",
   "execution_count": 48,
   "metadata": {},
   "outputs": [
    {
     "name": "stdout",
     "output_type": "stream",
     "text": [
      "y_teste.shape: (1, 100, 1)\n",
      "y_teste_normal.shape: (100,)\n"
     ]
    }
   ],
   "source": [
    "y_teste_normal = np.ravel(y_teste)\n",
    "print(\"y_teste.shape: {}\".format(y_teste.shape))\n",
    "print(\"y_teste_normal.shape: {}\".format(y_teste_normal.shape))"
   ]
  },
  {
   "cell_type": "code",
   "execution_count": 49,
   "metadata": {},
   "outputs": [
    {
     "name": "stdout",
     "output_type": "stream",
     "text": [
      "previsoes.shape: (1, 100, 1)\n",
      "previsoes_normal.shape: (100,)\n"
     ]
    }
   ],
   "source": [
    "previsoes_normal = np.ravel(previsoes)\n",
    "print(\"previsoes.shape: {}\".format(previsoes.shape))\n",
    "print(\"previsoes_normal.shape: {}\".format(previsoes_normal.shape))"
   ]
  },
  {
   "cell_type": "markdown",
   "metadata": {},
   "source": [
    "#### 5.1 Desnormalização das previsões\n",
    "Anteriormente eu normalizei os dados de treino, dessa forma, a predição foi feita com base nos dados normalizados.\n",
    "Utilizo a função 'inverse_transform' para desnormalizar."
   ]
  },
  {
   "cell_type": "code",
   "execution_count": 50,
   "metadata": {},
   "outputs": [
    {
     "name": "stdout",
     "output_type": "stream",
     "text": [
      "(100, 1)\n"
     ]
    }
   ],
   "source": [
    "previsoes_normal = previsoes_normal.reshape(-1, 1)\n",
    "print(previsoes_normal.shape)\n",
    "previsoes_normal = scaler.inverse_transform(previsoes_normal) # Desnormalizando as previsões\n",
    "previsoes_normal = np.squeeze(previsoes_normal) # Visualizar melhor"
   ]
  },
  {
   "cell_type": "markdown",
   "metadata": {},
   "source": [
    "#### 5.2 Métricas \n",
    "A métrica Mean Absolute Error informa a diferença do valor real com o valor previsto, que é bom para verificar a acurácia do modelo.\n",
    "\n"
   ]
  },
  {
   "cell_type": "code",
   "execution_count": 51,
   "metadata": {},
   "outputs": [],
   "source": [
    "from sklearn.metrics import mean_absolute_error\n",
    "mae = mean_absolute_error(y_teste_normal, previsoes_normal)"
   ]
  },
  {
   "cell_type": "code",
   "execution_count": 52,
   "metadata": {},
   "outputs": [],
   "source": [
    "def visualizar_resultados():\n",
    "    for i in range(len(previsoes_normal)):\n",
    "        print('Previsão:', previsoes_normal[i], '\\tValor real:', y_teste_normal[i])\n",
    "    print()\n",
    "    print('Mean Absolute Error:', round(mae,4))"
   ]
  },
  {
   "cell_type": "code",
   "execution_count": 53,
   "metadata": {},
   "outputs": [
    {
     "name": "stdout",
     "output_type": "stream",
     "text": [
      "Previsão: 581840.75 \tValor real: 454854.66\n",
      "Previsão: 1004148.56 \tValor real: 266.0\n",
      "Previsão: 627624.9 \tValor real: 355.0\n",
      "Previsão: 336428.47 \tValor real: 33365.0\n",
      "Previsão: 221871.69 \tValor real: 652887.75\n",
      "Previsão: 1244062.6 \tValor real: 19102.92\n",
      "Previsão: 767805.5 \tValor real: 106083.61\n",
      "Previsão: 665653.0 \tValor real: 9000.0\n",
      "Previsão: 431947.66 \tValor real: 131275.03\n",
      "Previsão: 574918.9 \tValor real: 392245.28\n",
      "Previsão: 1165062.2 \tValor real: 547040.5\n",
      "Previsão: 1623897.5 \tValor real: 925515.0\n",
      "Previsão: 2254961.8 \tValor real: 62961.77\n",
      "Previsão: 928803.2 \tValor real: 21390.0\n",
      "Previsão: 327343.12 \tValor real: 103272.41\n",
      "Previsão: -54530.41 \tValor real: 186082.95\n",
      "Previsão: 181376.06 \tValor real: 42329.46\n",
      "Previsão: 85985.41 \tValor real: 359575.28\n",
      "Previsão: 38960.582 \tValor real: 365031.56\n",
      "Previsão: 772772.3 \tValor real: 22213.0\n",
      "Previsão: 473764.22 \tValor real: 22563.0\n",
      "Previsão: 355036.12 \tValor real: 1373.0\n",
      "Previsão: 292854.66 \tValor real: 697.0\n",
      "Previsão: 294523.1 \tValor real: 176.0\n",
      "Previsão: 323304.22 \tValor real: 807.0\n",
      "Previsão: 356566.12 \tValor real: 533164.0\n",
      "Previsão: 1342050.0 \tValor real: 637910.25\n",
      "Previsão: 1582795.4 \tValor real: 274440.56\n",
      "Previsão: 1056433.1 \tValor real: 117391.52\n",
      "Previsão: 572163.6 \tValor real: 86142.4\n",
      "Previsão: 252625.14 \tValor real: 48479.0\n",
      "Previsão: 59210.574 \tValor real: 22898.11\n",
      "Previsão: -32227.338 \tValor real: 648567.7\n",
      "Previsão: 549701.1 \tValor real: 213872.66\n",
      "Previsão: 509664.16 \tValor real: 9600.0\n",
      "Previsão: 346576.28 \tValor real: 297216.8\n",
      "Previsão: 515049.5 \tValor real: 393770.6\n",
      "Previsão: 693655.5 \tValor real: 2238.0\n",
      "Previsão: 446323.2 \tValor real: 1273.0\n",
      "Previsão: 311414.1 \tValor real: 79019.0\n",
      "Previsão: 300229.6 \tValor real: 293305.0\n",
      "Previsão: 516962.44 \tValor real: 5362.0\n",
      "Previsão: 320739.0 \tValor real: 4948.0\n",
      "Previsão: 228518.89 \tValor real: 558.0\n",
      "Previsão: 150173.03 \tValor real: 1592.0\n",
      "Previsão: 112189.23 \tValor real: 16049.0\n",
      "Previsão: 110059.72 \tValor real: 1113230.0\n",
      "Previsão: 1137084.4 \tValor real: 37159.0\n",
      "Previsão: 631236.1 \tValor real: 458277.03\n",
      "Previsão: 784610.2 \tValor real: 317498.0\n",
      "Previsão: 657210.1 \tValor real: 27000.0\n",
      "Previsão: 384624.6 \tValor real: 264434.47\n",
      "Previsão: 422305.0 \tValor real: 28210.66\n",
      "Previsão: 253334.56 \tValor real: 4106.0\n",
      "Previsão: 157111.89 \tValor real: 28825.0\n",
      "Previsão: 134698.28 \tValor real: 19.0\n",
      "Previsão: 112988.05 \tValor real: 1371.0\n",
      "Previsão: 119048.7 \tValor real: 1057023.0\n",
      "Previsão: 1171805.6 \tValor real: 63519.84\n",
      "Previsão: 647648.9 \tValor real: 59322.7\n",
      "Previsão: 467921.8 \tValor real: 25953.71\n",
      "Previsão: 229850.38 \tValor real: 10000.0\n",
      "Previsão: 88131.836 \tValor real: 33245.55\n",
      "Previsão: 188.06358 \tValor real: 447689.53\n",
      "Previsão: 424600.62 \tValor real: 9864.0\n",
      "Previsão: 208836.67 \tValor real: 1868.0\n",
      "Previsão: 127194.48 \tValor real: 492.0\n",
      "Previsão: 62174.56 \tValor real: 305.0\n",
      "Previsão: 44470.477 \tValor real: 1843.0\n",
      "Previsão: 50511.17 \tValor real: 2046017.0\n",
      "Previsão: 1596193.6 \tValor real: 36109.9\n",
      "Previsão: 838006.25 \tValor real: 388948.62\n",
      "Previsão: 557784.9 \tValor real: 27858.93\n",
      "Previsão: 296241.62 \tValor real: 25150.0\n",
      "Previsão: 150524.38 \tValor real: 49089.22\n",
      "Previsão: 134050.0 \tValor real: 360211.1\n",
      "Previsão: 444259.25 \tValor real: 490955.2\n",
      "Previsão: 720645.0 \tValor real: 44337.78\n",
      "Previsão: 495172.3 \tValor real: 4000.0\n",
      "Previsão: 348806.53 \tValor real: 8902.39\n",
      "Previsão: 247191.55 \tValor real: 67752.22\n",
      "Previsão: 251483.97 \tValor real: 431613.75\n",
      "Previsão: 595254.3 \tValor real: 348262.4\n",
      "Previsão: 638327.3 \tValor real: 83802.03\n",
      "Previsão: 434476.2 \tValor real: 8000.0\n",
      "Previsão: 246632.28 \tValor real: 20185.23\n",
      "Previsão: 143043.0 \tValor real: 548691.0\n",
      "Previsão: 557520.75 \tValor real: 425622.38\n",
      "Previsão: 626403.6 \tValor real: 6599.0\n",
      "Previsão: 367466.4 \tValor real: 37251.0\n",
      "Previsão: 252410.72 \tValor real: 2829.0\n",
      "Previsão: 151948.61 \tValor real: 98.0\n",
      "Previsão: 113736.234 \tValor real: 230.0\n",
      "Previsão: 107714.04 \tValor real: 816832.0\n",
      "Previsão: 824136.9 \tValor real: 1699952.1\n",
      "Previsão: 1441470.5 \tValor real: 1095668.9\n",
      "Previsão: 1346229.5 \tValor real: 1218673.0\n",
      "Previsão: 1362091.6 \tValor real: 117934.3\n",
      "Previsão: 868197.56 \tValor real: 109868.65\n",
      "Previsão: 602036.0 \tValor real: 5000.0\n",
      "\n",
      "Mean Absolute Error: 461451.72\n"
     ]
    }
   ],
   "source": [
    "visualizar_resultados()"
   ]
  },
  {
   "cell_type": "code",
   "execution_count": 54,
   "metadata": {},
   "outputs": [
    {
     "data": {
      "text/plain": [
       "<matplotlib.legend.Legend at 0x7f74447cd128>"
      ]
     },
     "execution_count": 54,
     "metadata": {},
     "output_type": "execute_result"
    },
    {
     "data": {
      "image/png": "[encoded data removed]",
      "text/plain": [
       "<Figure size 432x288 with 1 Axes>"
      ]
     },
     "metadata": {
      "needs_background": "light"
     },
     "output_type": "display_data"
    }
   ],
   "source": [
    "plt.plot(y_teste_normal, label = 'Valor real')\n",
    "plt.plot(previsoes_normal, label = 'Previsões')\n",
    "plt.legend()"
   ]
  }
 ],
 "metadata": {
  "kernelspec": {
   "display_name": "Python 3",
   "language": "python",
   "name": "python3"
  },
  "language_info": {
   "codemirror_mode": {
    "name": "ipython",
    "version": 3
   },
   "file_extension": ".py",
   "mimetype": "text/x-python",
   "name": "python",
   "nbconvert_exporter": "python",
   "pygments_lexer": "ipython3",
   "version": "3.7.4"
  }
 },
 "nbformat": 4,
 "nbformat_minor": 2
}
