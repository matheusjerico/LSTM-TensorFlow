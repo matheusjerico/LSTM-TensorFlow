{
 "cells": [
  {
   "cell_type": "markdown",
   "metadata": {},
   "source": [
    "# Desafio: Predição de clientes bons - STEFANINI\n",
    "\n",
    "### Autor: Matheus Jericó Palhares\n",
    "### e-mail: matheusjerico1994@hotmail.com\n",
    "### data: 18/07/2019"
   ]
  },
  {
   "cell_type": "markdown",
   "metadata": {},
   "source": [
    "#### Definição do dataset:\n",
    "- Account No. - representa o número da conta envolvida na transação.\n",
    "- Date - data da transação.\n",
    "- Transaction Details - narrações de transação em extratos bancários.\n",
    "- Cheque No. - indica o número do cheque.\n",
    "- Value Date - Data de conclusão da transação.\n",
    "- Withdrawal Amount - Indica o montante retirado.\n",
    "- Deposit Amount - Indica o valor depositado.\n",
    "- Balance Amount - saldo atual da conta."
   ]
  },
  {
   "cell_type": "markdown",
   "metadata": {},
   "source": [
    "#### Importando bibliotecas"
   ]
  },
  {
   "cell_type": "code",
   "execution_count": 1,
   "metadata": {},
   "outputs": [],
   "source": [
    "import pandas as pd\n",
    "import matplotlib.pyplot as plt\n",
    "import numpy as np\n",
    "from sklearn.preprocessing import MinMaxScaler\n",
    "import tensorflow as tf\n",
    "import seaborn as sns\n",
    "%matplotlib inline"
   ]
  },
  {
   "cell_type": "markdown",
   "metadata": {},
   "source": [
    "#### 1. Importando dataset"
   ]
  },
  {
   "cell_type": "code",
   "execution_count": 2,
   "metadata": {},
   "outputs": [],
   "source": [
    "path_xlsx = '/home/matheusjerico/Documentos/IA/Desafio_LSTM/bank.xlsx'\n",
    "\n",
    "dataset = pd.read_excel(path_xlsx, sep=',')"
   ]
  },
  {
   "cell_type": "markdown",
   "metadata": {},
   "source": [
    "#### 2. Pré Processamento dos dados"
   ]
  },
  {
   "cell_type": "code",
   "execution_count": 3,
   "metadata": {},
   "outputs": [
    {
     "data": {
      "text/html": [
       "<div>\n",
       "<style scoped>\n",
       "    .dataframe tbody tr th:only-of-type {\n",
       "        vertical-align: middle;\n",
       "    }\n",
       "\n",
       "    .dataframe tbody tr th {\n",
       "        vertical-align: top;\n",
       "    }\n",
       "\n",
       "    .dataframe thead th {\n",
       "        text-align: right;\n",
       "    }\n",
       "</style>\n",
       "<table border=\"1\" class=\"dataframe\">\n",
       "  <thead>\n",
       "    <tr style=\"text-align: right;\">\n",
       "      <th></th>\n",
       "      <th>Account No</th>\n",
       "      <th>DATE</th>\n",
       "      <th>TRANSACTION DETAILS</th>\n",
       "      <th>CHQ.NO.</th>\n",
       "      <th>VALUE DATE</th>\n",
       "      <th>WITHDRAWAL AMT</th>\n",
       "      <th>DEPOSIT AMT</th>\n",
       "      <th>BALANCE AMT</th>\n",
       "      <th>.</th>\n",
       "    </tr>\n",
       "  </thead>\n",
       "  <tbody>\n",
       "    <tr>\n",
       "      <th>0</th>\n",
       "      <td>409000611074'</td>\n",
       "      <td>2017-06-29</td>\n",
       "      <td>TRF FROM  Indiaforensic SERVICES</td>\n",
       "      <td>NaN</td>\n",
       "      <td>2017-06-29</td>\n",
       "      <td>NaN</td>\n",
       "      <td>1000000.0</td>\n",
       "      <td>1000000.0</td>\n",
       "      <td>.</td>\n",
       "    </tr>\n",
       "    <tr>\n",
       "      <th>1</th>\n",
       "      <td>409000611074'</td>\n",
       "      <td>2017-07-05</td>\n",
       "      <td>TRF FROM  Indiaforensic SERVICES</td>\n",
       "      <td>NaN</td>\n",
       "      <td>2017-07-05</td>\n",
       "      <td>NaN</td>\n",
       "      <td>1000000.0</td>\n",
       "      <td>2000000.0</td>\n",
       "      <td>.</td>\n",
       "    </tr>\n",
       "    <tr>\n",
       "      <th>2</th>\n",
       "      <td>409000611074'</td>\n",
       "      <td>2017-07-18</td>\n",
       "      <td>FDRL/INTERNAL FUND TRANSFE</td>\n",
       "      <td>NaN</td>\n",
       "      <td>2017-07-18</td>\n",
       "      <td>NaN</td>\n",
       "      <td>500000.0</td>\n",
       "      <td>2500000.0</td>\n",
       "      <td>.</td>\n",
       "    </tr>\n",
       "    <tr>\n",
       "      <th>3</th>\n",
       "      <td>409000611074'</td>\n",
       "      <td>2017-08-01</td>\n",
       "      <td>TRF FRM  Indiaforensic SERVICES</td>\n",
       "      <td>NaN</td>\n",
       "      <td>2017-08-01</td>\n",
       "      <td>NaN</td>\n",
       "      <td>3000000.0</td>\n",
       "      <td>5500000.0</td>\n",
       "      <td>.</td>\n",
       "    </tr>\n",
       "    <tr>\n",
       "      <th>4</th>\n",
       "      <td>409000611074'</td>\n",
       "      <td>2017-08-16</td>\n",
       "      <td>FDRL/INTERNAL FUND TRANSFE</td>\n",
       "      <td>NaN</td>\n",
       "      <td>2017-08-16</td>\n",
       "      <td>NaN</td>\n",
       "      <td>500000.0</td>\n",
       "      <td>6000000.0</td>\n",
       "      <td>.</td>\n",
       "    </tr>\n",
       "  </tbody>\n",
       "</table>\n",
       "</div>"
      ],
      "text/plain": [
       "      Account No       DATE               TRANSACTION DETAILS  CHQ.NO.  \\\n",
       "0  409000611074' 2017-06-29  TRF FROM  Indiaforensic SERVICES      NaN   \n",
       "1  409000611074' 2017-07-05  TRF FROM  Indiaforensic SERVICES      NaN   \n",
       "2  409000611074' 2017-07-18        FDRL/INTERNAL FUND TRANSFE      NaN   \n",
       "3  409000611074' 2017-08-01   TRF FRM  Indiaforensic SERVICES      NaN   \n",
       "4  409000611074' 2017-08-16        FDRL/INTERNAL FUND TRANSFE      NaN   \n",
       "\n",
       "  VALUE DATE  WITHDRAWAL AMT  DEPOSIT AMT  BALANCE AMT  .  \n",
       "0 2017-06-29             NaN    1000000.0    1000000.0  .  \n",
       "1 2017-07-05             NaN    1000000.0    2000000.0  .  \n",
       "2 2017-07-18             NaN     500000.0    2500000.0  .  \n",
       "3 2017-08-01             NaN    3000000.0    5500000.0  .  \n",
       "4 2017-08-16             NaN     500000.0    6000000.0  .  "
      ]
     },
     "execution_count": 3,
     "metadata": {},
     "output_type": "execute_result"
    }
   ],
   "source": [
    "dataset.head()"
   ]
  },
  {
   "cell_type": "code",
   "execution_count": 4,
   "metadata": {},
   "outputs": [
    {
     "data": {
      "text/plain": [
       "(116201, 9)"
      ]
     },
     "execution_count": 4,
     "metadata": {},
     "output_type": "execute_result"
    }
   ],
   "source": [
    "dataset.shape"
   ]
  },
  {
   "cell_type": "markdown",
   "metadata": {},
   "source": [
    "#### 2.1. Renomeando as colunas"
   ]
  },
  {
   "cell_type": "code",
   "execution_count": 5,
   "metadata": {},
   "outputs": [],
   "source": [
    "dataset = dataset.rename(columns={'Account No':'ACCOUNT_NO', 'DATE':'DATE', 'TRANSACTION DETAILS':'TRANSACTION_DETAILS',\n",
    "                                'CHQ.NO.':'CHQ_NO','VALUE DATE':'VALUE_DATE',\n",
    "                                'WITHDRAWAL AMT':'WITHDRAWAL_AMT','DEPOSIT AMT':'DEPOSIT_AMT',\n",
    "                                'BALANCE AMT':'BALANCE_AMT', '.':'.'})"
   ]
  },
  {
   "cell_type": "markdown",
   "metadata": {},
   "source": [
    "#### 2.2. Visualizando dados faltantes e removendo colunas desnecessárias"
   ]
  },
  {
   "cell_type": "code",
   "execution_count": 6,
   "metadata": {},
   "outputs": [
    {
     "data": {
      "text/plain": [
       "ACCOUNT_NO                  0\n",
       "DATE                        0\n",
       "TRANSACTION_DETAILS      2499\n",
       "CHQ_NO                 115296\n",
       "VALUE_DATE                  0\n",
       "WITHDRAWAL_AMT          62652\n",
       "DEPOSIT_AMT             53549\n",
       "BALANCE_AMT                 0\n",
       ".                           0\n",
       "dtype: int64"
      ]
     },
     "execution_count": 6,
     "metadata": {},
     "output_type": "execute_result"
    }
   ],
   "source": [
    "dataset.isna().sum()"
   ]
  },
  {
   "cell_type": "code",
   "execution_count": 7,
   "metadata": {},
   "outputs": [
    {
     "data": {
      "text/plain": [
       "<matplotlib.axes._subplots.AxesSubplot at 0x7ff0b21e8668>"
      ]
     },
     "execution_count": 7,
     "metadata": {},
     "output_type": "execute_result"
    },
    {
     "data": {
      "image/png": "[encoded data removed]",
      "text/plain": [
       "<Figure size 432x288 with 2 Axes>"
      ]
     },
     "metadata": {
      "needs_background": "light"
     },
     "output_type": "display_data"
    }
   ],
   "source": [
    "sns.heatmap(dataset.isna())"
   ]
  },
  {
   "cell_type": "markdown",
   "metadata": {},
   "source": [
    "# 1. Segunda Tarefa - Desafio LSTM"
   ]
  },
  {
   "cell_type": "markdown",
   "metadata": {},
   "source": [
    "### Verificar em os pontos de melhores clientes"
   ]
  },
  {
   "cell_type": "markdown",
   "metadata": {},
   "source": [
    "#### 1.1. Pré Processamento"
   ]
  },
  {
   "cell_type": "markdown",
   "metadata": {},
   "source": [
    "- Remover coluna com muitos valores NaN"
   ]
  },
  {
   "cell_type": "code",
   "execution_count": 8,
   "metadata": {},
   "outputs": [],
   "source": [
    "df = dataset.drop(columns=['CHQ_NO'])"
   ]
  },
  {
   "cell_type": "markdown",
   "metadata": {},
   "source": [
    "- Removendo as colunas date, value_date, transaction_details, balance_amt e '.'"
   ]
  },
  {
   "cell_type": "code",
   "execution_count": 9,
   "metadata": {},
   "outputs": [],
   "source": [
    "df = df.drop(columns=['DATE', 'VALUE_DATE','TRANSACTION_DETAILS','.','BALANCE_AMT'])"
   ]
  },
  {
   "cell_type": "markdown",
   "metadata": {},
   "source": [
    "#### 1.2 Preenchimento de valores NaN\n",
    "- As colunas WITHDRAWAL_AMT e DEPOSIT_AMT são opostas, quando uma tem valor, a outra não tem.\n",
    "- Isso ocorre porque nosso dataset é referente transações bancárias. Logo, uma transação de saque não ocorre junto a de depósito.\n",
    "- Para isso, vamos substituir os valores NaN por 0."
   ]
  },
  {
   "cell_type": "code",
   "execution_count": 10,
   "metadata": {},
   "outputs": [],
   "source": [
    "df['WITHDRAWAL_AMT'] = df['WITHDRAWAL_AMT'].fillna(0)\n",
    "df['DEPOSIT_AMT'] = df['DEPOSIT_AMT'].fillna(0)"
   ]
  },
  {
   "cell_type": "markdown",
   "metadata": {},
   "source": [
    "- Verificar a existência de valores NaN no novo dataset e obtendo informações referentes ao dataset"
   ]
  },
  {
   "cell_type": "code",
   "execution_count": 11,
   "metadata": {},
   "outputs": [
    {
     "data": {
      "text/plain": [
       "ACCOUNT_NO        0\n",
       "WITHDRAWAL_AMT    0\n",
       "DEPOSIT_AMT       0\n",
       "dtype: int64"
      ]
     },
     "execution_count": 11,
     "metadata": {},
     "output_type": "execute_result"
    }
   ],
   "source": [
    "df.isna().sum()"
   ]
  },
  {
   "cell_type": "code",
   "execution_count": 12,
   "metadata": {},
   "outputs": [
    {
     "name": "stdout",
     "output_type": "stream",
     "text": [
      "<class 'pandas.core.frame.DataFrame'>\n",
      "RangeIndex: 116201 entries, 0 to 116200\n",
      "Data columns (total 3 columns):\n",
      "ACCOUNT_NO        116201 non-null object\n",
      "WITHDRAWAL_AMT    116201 non-null float64\n",
      "DEPOSIT_AMT       116201 non-null float64\n",
      "dtypes: float64(2), object(1)\n",
      "memory usage: 2.7+ MB\n"
     ]
    }
   ],
   "source": [
    "df.info()"
   ]
  },
  {
   "cell_type": "code",
   "execution_count": 13,
   "metadata": {},
   "outputs": [
    {
     "data": {
      "text/html": [
       "<div>\n",
       "<style scoped>\n",
       "    .dataframe tbody tr th:only-of-type {\n",
       "        vertical-align: middle;\n",
       "    }\n",
       "\n",
       "    .dataframe tbody tr th {\n",
       "        vertical-align: top;\n",
       "    }\n",
       "\n",
       "    .dataframe thead th {\n",
       "        text-align: right;\n",
       "    }\n",
       "</style>\n",
       "<table border=\"1\" class=\"dataframe\">\n",
       "  <thead>\n",
       "    <tr style=\"text-align: right;\">\n",
       "      <th></th>\n",
       "      <th>ACCOUNT_NO</th>\n",
       "      <th>WITHDRAWAL_AMT</th>\n",
       "      <th>DEPOSIT_AMT</th>\n",
       "    </tr>\n",
       "  </thead>\n",
       "  <tbody>\n",
       "    <tr>\n",
       "      <th>0</th>\n",
       "      <td>409000611074'</td>\n",
       "      <td>0.0</td>\n",
       "      <td>1000000.0</td>\n",
       "    </tr>\n",
       "    <tr>\n",
       "      <th>1</th>\n",
       "      <td>409000611074'</td>\n",
       "      <td>0.0</td>\n",
       "      <td>1000000.0</td>\n",
       "    </tr>\n",
       "    <tr>\n",
       "      <th>2</th>\n",
       "      <td>409000611074'</td>\n",
       "      <td>0.0</td>\n",
       "      <td>500000.0</td>\n",
       "    </tr>\n",
       "  </tbody>\n",
       "</table>\n",
       "</div>"
      ],
      "text/plain": [
       "      ACCOUNT_NO  WITHDRAWAL_AMT  DEPOSIT_AMT\n",
       "0  409000611074'             0.0    1000000.0\n",
       "1  409000611074'             0.0    1000000.0\n",
       "2  409000611074'             0.0     500000.0"
      ]
     },
     "execution_count": 13,
     "metadata": {},
     "output_type": "execute_result"
    }
   ],
   "source": [
    "df.head(3)"
   ]
  },
  {
   "cell_type": "markdown",
   "metadata": {},
   "source": [
    "#### 1.3 Categorizando as colunas que possuem valores em formato string."
   ]
  },
  {
   "cell_type": "code",
   "execution_count": 14,
   "metadata": {},
   "outputs": [],
   "source": [
    "from sklearn.preprocessing import LabelEncoder"
   ]
  },
  {
   "cell_type": "code",
   "execution_count": 15,
   "metadata": {},
   "outputs": [],
   "source": [
    "df.ACCOUNT_NO = df.ACCOUNT_NO.astype('category')\n",
    "le = LabelEncoder()\n",
    "df.ACCOUNT_NO = le.fit_transform(df.ACCOUNT_NO)"
   ]
  },
  {
   "cell_type": "markdown",
   "metadata": {},
   "source": [
    "- Visualizando correlação entre variáveis"
   ]
  },
  {
   "cell_type": "code",
   "execution_count": 16,
   "metadata": {},
   "outputs": [
    {
     "data": {
      "text/html": [
       "<div>\n",
       "<style scoped>\n",
       "    .dataframe tbody tr th:only-of-type {\n",
       "        vertical-align: middle;\n",
       "    }\n",
       "\n",
       "    .dataframe tbody tr th {\n",
       "        vertical-align: top;\n",
       "    }\n",
       "\n",
       "    .dataframe thead th {\n",
       "        text-align: right;\n",
       "    }\n",
       "</style>\n",
       "<table border=\"1\" class=\"dataframe\">\n",
       "  <thead>\n",
       "    <tr style=\"text-align: right;\">\n",
       "      <th></th>\n",
       "      <th>ACCOUNT_NO</th>\n",
       "      <th>WITHDRAWAL_AMT</th>\n",
       "      <th>DEPOSIT_AMT</th>\n",
       "    </tr>\n",
       "  </thead>\n",
       "  <tbody>\n",
       "    <tr>\n",
       "      <th>ACCOUNT_NO</th>\n",
       "      <td>1.000000</td>\n",
       "      <td>-0.051821</td>\n",
       "      <td>-0.059683</td>\n",
       "    </tr>\n",
       "    <tr>\n",
       "      <th>WITHDRAWAL_AMT</th>\n",
       "      <td>-0.051821</td>\n",
       "      <td>1.000000</td>\n",
       "      <td>-0.082927</td>\n",
       "    </tr>\n",
       "    <tr>\n",
       "      <th>DEPOSIT_AMT</th>\n",
       "      <td>-0.059683</td>\n",
       "      <td>-0.082927</td>\n",
       "      <td>1.000000</td>\n",
       "    </tr>\n",
       "  </tbody>\n",
       "</table>\n",
       "</div>"
      ],
      "text/plain": [
       "                ACCOUNT_NO  WITHDRAWAL_AMT  DEPOSIT_AMT\n",
       "ACCOUNT_NO        1.000000       -0.051821    -0.059683\n",
       "WITHDRAWAL_AMT   -0.051821        1.000000    -0.082927\n",
       "DEPOSIT_AMT      -0.059683       -0.082927     1.000000"
      ]
     },
     "execution_count": 16,
     "metadata": {},
     "output_type": "execute_result"
    }
   ],
   "source": [
    "df.corr()"
   ]
  },
  {
   "cell_type": "markdown",
   "metadata": {},
   "source": [
    "- Verificar a formato dataset e obtendo informações referentes ao dataset"
   ]
  },
  {
   "cell_type": "code",
   "execution_count": 17,
   "metadata": {},
   "outputs": [
    {
     "name": "stdout",
     "output_type": "stream",
     "text": [
      "(116201, 3)\n"
     ]
    }
   ],
   "source": [
    "print(df.shape)"
   ]
  },
  {
   "cell_type": "code",
   "execution_count": 18,
   "metadata": {},
   "outputs": [
    {
     "name": "stdout",
     "output_type": "stream",
     "text": [
      "<class 'pandas.core.frame.DataFrame'>\n",
      "RangeIndex: 116201 entries, 0 to 116200\n",
      "Data columns (total 3 columns):\n",
      "ACCOUNT_NO        116201 non-null int64\n",
      "WITHDRAWAL_AMT    116201 non-null float64\n",
      "DEPOSIT_AMT       116201 non-null float64\n",
      "dtypes: float64(2), int64(1)\n",
      "memory usage: 2.7 MB\n"
     ]
    }
   ],
   "source": [
    "df.info()"
   ]
  },
  {
   "cell_type": "markdown",
   "metadata": {},
   "source": [
    "#### 1.4 Criando nova columa com saldo do cada número de conta\n",
    "- Para isso, criei uma nova coluna chamada 'account_balance_positive' para fazer a somatória dos valores depositados por cada conta, de forma acumulativa.\n",
    "- Criei uma nova coluna chamada 'account_balance_negative' para fazer a somatória dos valores retirados por cada conta, de forma acumulativa.\n",
    "- Caso uma conta faça o depósito de R$1000,00 5 vezes, o valor da 'account_balance_positive' vai ser acumulativo.\n",
    "- Após a criação das duas colunas, faço a subtração entre a coluna 'account_balance_positive' com a 'account_balance_negative', obtendo o saldo atual de cada conta após cada transação, uma nova coluna chamada 'account_balance_total'\n",
    "- Esse novo parâmetro será utilizado para calcular o potencial dos clientes."
   ]
  },
  {
   "cell_type": "code",
   "execution_count": 19,
   "metadata": {},
   "outputs": [],
   "source": [
    "# Inicializo as colunas\n",
    "df['account_balance_positive'] = 0\n",
    "df['account_balance_negative'] = 0\n",
    "df['account_balance_total'] = 0"
   ]
  },
  {
   "cell_type": "code",
   "execution_count": 20,
   "metadata": {},
   "outputs": [],
   "source": [
    "# Calculando os valores positivos por cada conta:\n",
    "df['account_balance_positive'] = df.groupby(['ACCOUNT_NO'])['DEPOSIT_AMT'].cumsum()"
   ]
  },
  {
   "cell_type": "code",
   "execution_count": 21,
   "metadata": {},
   "outputs": [],
   "source": [
    "# Calculando os valores retirados por cada conta:\n",
    "df['account_balance_negative'] = df.groupby(['ACCOUNT_NO'])['WITHDRAWAL_AMT'].cumsum()"
   ]
  },
  {
   "cell_type": "code",
   "execution_count": 22,
   "metadata": {},
   "outputs": [],
   "source": [
    "# Fazendo a subtração entre as duas colunas:\n",
    "df['account_balance_total'] = df['account_balance_positive'] - df['account_balance_negative']"
   ]
  },
  {
   "cell_type": "code",
   "execution_count": 23,
   "metadata": {},
   "outputs": [
    {
     "data": {
      "text/html": [
       "<div>\n",
       "<style scoped>\n",
       "    .dataframe tbody tr th:only-of-type {\n",
       "        vertical-align: middle;\n",
       "    }\n",
       "\n",
       "    .dataframe tbody tr th {\n",
       "        vertical-align: top;\n",
       "    }\n",
       "\n",
       "    .dataframe thead th {\n",
       "        text-align: right;\n",
       "    }\n",
       "</style>\n",
       "<table border=\"1\" class=\"dataframe\">\n",
       "  <thead>\n",
       "    <tr style=\"text-align: right;\">\n",
       "      <th></th>\n",
       "      <th>ACCOUNT_NO</th>\n",
       "      <th>WITHDRAWAL_AMT</th>\n",
       "      <th>DEPOSIT_AMT</th>\n",
       "      <th>account_balance_positive</th>\n",
       "      <th>account_balance_negative</th>\n",
       "      <th>account_balance_total</th>\n",
       "    </tr>\n",
       "  </thead>\n",
       "  <tbody>\n",
       "    <tr>\n",
       "      <th>0</th>\n",
       "      <td>9</td>\n",
       "      <td>0.0</td>\n",
       "      <td>1000000.0</td>\n",
       "      <td>1000000.0</td>\n",
       "      <td>0.0</td>\n",
       "      <td>1000000.0</td>\n",
       "    </tr>\n",
       "    <tr>\n",
       "      <th>1</th>\n",
       "      <td>9</td>\n",
       "      <td>0.0</td>\n",
       "      <td>1000000.0</td>\n",
       "      <td>2000000.0</td>\n",
       "      <td>0.0</td>\n",
       "      <td>2000000.0</td>\n",
       "    </tr>\n",
       "    <tr>\n",
       "      <th>2</th>\n",
       "      <td>9</td>\n",
       "      <td>0.0</td>\n",
       "      <td>500000.0</td>\n",
       "      <td>2500000.0</td>\n",
       "      <td>0.0</td>\n",
       "      <td>2500000.0</td>\n",
       "    </tr>\n",
       "    <tr>\n",
       "      <th>3</th>\n",
       "      <td>9</td>\n",
       "      <td>0.0</td>\n",
       "      <td>3000000.0</td>\n",
       "      <td>5500000.0</td>\n",
       "      <td>0.0</td>\n",
       "      <td>5500000.0</td>\n",
       "    </tr>\n",
       "    <tr>\n",
       "      <th>4</th>\n",
       "      <td>9</td>\n",
       "      <td>0.0</td>\n",
       "      <td>500000.0</td>\n",
       "      <td>6000000.0</td>\n",
       "      <td>0.0</td>\n",
       "      <td>6000000.0</td>\n",
       "    </tr>\n",
       "  </tbody>\n",
       "</table>\n",
       "</div>"
      ],
      "text/plain": [
       "   ACCOUNT_NO  WITHDRAWAL_AMT  DEPOSIT_AMT  account_balance_positive  \\\n",
       "0           9             0.0    1000000.0                 1000000.0   \n",
       "1           9             0.0    1000000.0                 2000000.0   \n",
       "2           9             0.0     500000.0                 2500000.0   \n",
       "3           9             0.0    3000000.0                 5500000.0   \n",
       "4           9             0.0     500000.0                 6000000.0   \n",
       "\n",
       "   account_balance_negative  account_balance_total  \n",
       "0                       0.0              1000000.0  \n",
       "1                       0.0              2000000.0  \n",
       "2                       0.0              2500000.0  \n",
       "3                       0.0              5500000.0  \n",
       "4                       0.0              6000000.0  "
      ]
     },
     "execution_count": 23,
     "metadata": {},
     "output_type": "execute_result"
    }
   ],
   "source": [
    "df.head(5)"
   ]
  },
  {
   "cell_type": "markdown",
   "metadata": {},
   "source": [
    "- Remoção das colunas 'account_balance_positive' e 'account_balance_negative'"
   ]
  },
  {
   "cell_type": "code",
   "execution_count": 24,
   "metadata": {},
   "outputs": [],
   "source": [
    "df = df.drop(columns=['account_balance_negative', 'account_balance_positive'])"
   ]
  },
  {
   "cell_type": "code",
   "execution_count": 25,
   "metadata": {},
   "outputs": [
    {
     "data": {
      "text/html": [
       "<div>\n",
       "<style scoped>\n",
       "    .dataframe tbody tr th:only-of-type {\n",
       "        vertical-align: middle;\n",
       "    }\n",
       "\n",
       "    .dataframe tbody tr th {\n",
       "        vertical-align: top;\n",
       "    }\n",
       "\n",
       "    .dataframe thead th {\n",
       "        text-align: right;\n",
       "    }\n",
       "</style>\n",
       "<table border=\"1\" class=\"dataframe\">\n",
       "  <thead>\n",
       "    <tr style=\"text-align: right;\">\n",
       "      <th></th>\n",
       "      <th>ACCOUNT_NO</th>\n",
       "      <th>WITHDRAWAL_AMT</th>\n",
       "      <th>DEPOSIT_AMT</th>\n",
       "      <th>account_balance_total</th>\n",
       "    </tr>\n",
       "  </thead>\n",
       "  <tbody>\n",
       "    <tr>\n",
       "      <th>0</th>\n",
       "      <td>9</td>\n",
       "      <td>0.0</td>\n",
       "      <td>1000000.0</td>\n",
       "      <td>1000000.0</td>\n",
       "    </tr>\n",
       "    <tr>\n",
       "      <th>1</th>\n",
       "      <td>9</td>\n",
       "      <td>0.0</td>\n",
       "      <td>1000000.0</td>\n",
       "      <td>2000000.0</td>\n",
       "    </tr>\n",
       "    <tr>\n",
       "      <th>2</th>\n",
       "      <td>9</td>\n",
       "      <td>0.0</td>\n",
       "      <td>500000.0</td>\n",
       "      <td>2500000.0</td>\n",
       "    </tr>\n",
       "    <tr>\n",
       "      <th>3</th>\n",
       "      <td>9</td>\n",
       "      <td>0.0</td>\n",
       "      <td>3000000.0</td>\n",
       "      <td>5500000.0</td>\n",
       "    </tr>\n",
       "    <tr>\n",
       "      <th>4</th>\n",
       "      <td>9</td>\n",
       "      <td>0.0</td>\n",
       "      <td>500000.0</td>\n",
       "      <td>6000000.0</td>\n",
       "    </tr>\n",
       "  </tbody>\n",
       "</table>\n",
       "</div>"
      ],
      "text/plain": [
       "   ACCOUNT_NO  WITHDRAWAL_AMT  DEPOSIT_AMT  account_balance_total\n",
       "0           9             0.0    1000000.0              1000000.0\n",
       "1           9             0.0    1000000.0              2000000.0\n",
       "2           9             0.0     500000.0              2500000.0\n",
       "3           9             0.0    3000000.0              5500000.0\n",
       "4           9             0.0     500000.0              6000000.0"
      ]
     },
     "execution_count": 25,
     "metadata": {},
     "output_type": "execute_result"
    }
   ],
   "source": [
    "df.head(5)"
   ]
  },
  {
   "cell_type": "markdown",
   "metadata": {},
   "source": [
    "#### 1.5 Criando uma nova coluna\n",
    "- Quando o valor do 'account_balance_total' é negativo, temos um potencial de um cliente que não é bom, pois está com seu dividendo ativo.\n",
    "- Quando temos um valor positivo, indica que foi inserido um valor maior que retirado.\n",
    "- Dessa forma, crio uma nova coluna informando se temos um bom potencial ou não."
   ]
  },
  {
   "cell_type": "code",
   "execution_count": 26,
   "metadata": {},
   "outputs": [],
   "source": [
    "df['good_client'] = np.where(df.account_balance_total > 0, 1, 0)"
   ]
  },
  {
   "cell_type": "markdown",
   "metadata": {},
   "source": [
    "#### 1.7 Embaralhando o dataset para retirar ordem cronológica"
   ]
  },
  {
   "cell_type": "code",
   "execution_count": 27,
   "metadata": {},
   "outputs": [],
   "source": [
    "df=df.iloc[np.random.permutation(len(df))]"
   ]
  },
  {
   "cell_type": "markdown",
   "metadata": {},
   "source": [
    "#### 1.8 Resetando index"
   ]
  },
  {
   "cell_type": "code",
   "execution_count": 28,
   "metadata": {},
   "outputs": [
    {
     "name": "stdout",
     "output_type": "stream",
     "text": [
      "(116201, 5)\n"
     ]
    }
   ],
   "source": [
    "df=df.reset_index(drop=True)\n",
    "print(df.shape)"
   ]
  },
  {
   "cell_type": "markdown",
   "metadata": {},
   "source": [
    "#### 2. Definição da janela\n",
    "Definir a janela da LSTM, utilizando o parâmetro 'n_timesteps'. \n"
   ]
  },
  {
   "cell_type": "code",
   "execution_count": 29,
   "metadata": {},
   "outputs": [],
   "source": [
    "n_timesteps = 100"
   ]
  },
  {
   "cell_type": "markdown",
   "metadata": {},
   "source": [
    "#### 2.1 Separando os dados de treino e teste\n",
    "O padrão de entrada do tensorflow é:\n",
    "    - [tamanho_do_batch, tamanho_da_memoria (janela), qntd_atributos]\n",
    "    - Em cada batch teremos 'n_timesteps' registros, no caso apresentado, 30 registros."
   ]
  },
  {
   "cell_type": "code",
   "execution_count": 30,
   "metadata": {},
   "outputs": [],
   "source": [
    "x_input = df.iloc[0:116000,0:4]\n",
    "X_batch = np.array(x_input).reshape(-1, n_timesteps, 4)\n",
    "y_input = df.iloc[0:116000,4:5]\n",
    "y_batch = np.array(y_input).reshape(-1, n_timesteps, 1)\n",
    "\n",
    "\n",
    "x_test = df.iloc[116000:116200,0:4]\n",
    "X_teste = np.array(x_test).reshape(-1, n_timesteps, 4)\n",
    "y_test = df.iloc[116000:116200,4:5]\n",
    "y_teste = np.array(y_test).reshape(-1, n_timesteps, 1)"
   ]
  },
  {
   "cell_type": "markdown",
   "metadata": {},
   "source": [
    "#### 3. Algoritmo LSTM"
   ]
  },
  {
   "cell_type": "code",
   "execution_count": 31,
   "metadata": {},
   "outputs": [],
   "source": [
    "# reset grafo atual\n",
    "tf.reset_default_graph()"
   ]
  },
  {
   "cell_type": "markdown",
   "metadata": {},
   "source": [
    "#### 3.1 Parâmetros\n",
    "- n_inputs: quantidade de atributos previsores. Utilizou-se 4 parâmetros.\n",
    "- n_nodes: quantidade de neurônios utilizados na camada ocultas. Definido após realizar alguns testes, alterando a quantidade até obter-se um bom resultado\n",
    "- n_output: quantidade de atributos de saída. Apenas uma saída, que oscila entre 0 e 1. 1 para melhores clientes e 0 para piores clientes"
   ]
  },
  {
   "cell_type": "code",
   "execution_count": 32,
   "metadata": {},
   "outputs": [],
   "source": [
    "# nº de entradas\n",
    "n_input = 4\n",
    "# nodes da camada do LSTM\n",
    "n_nodes = 100\n",
    "# nº de saídas\n",
    "n_output = 1"
   ]
  },
  {
   "cell_type": "markdown",
   "metadata": {},
   "source": [
    "#### 3.2 Criação dos placeholders"
   ]
  },
  {
   "cell_type": "code",
   "execution_count": 33,
   "metadata": {},
   "outputs": [],
   "source": [
    "# Criação dos placeholders\n",
    "x = tf.placeholder(tf.float32,[None, n_timesteps, n_input])\n",
    "y = tf.placeholder(tf.float32, [None, n_timesteps, n_output])"
   ]
  },
  {
   "cell_type": "markdown",
   "metadata": {},
   "source": [
    "#### 3.3 Definição de uma célula LSTM\n",
    "- Cada célula indica uma camada oculta"
   ]
  },
  {
   "cell_type": "code",
   "execution_count": 34,
   "metadata": {},
   "outputs": [],
   "source": [
    "def criar_uma_celula():\n",
    "    # Função para criar uma célula LSTM\n",
    "    # Parâmetros: quantidade de nodes da camada (100), função de ativação (tanh)\n",
    "    \n",
    "    return tf.contrib.rnn.LSTMCell(num_units = n_nodes, activation = tf.nn.tanh)"
   ]
  },
  {
   "cell_type": "markdown",
   "metadata": {},
   "source": [
    "#### 3.4 Função para criar N células (camadas) \n",
    "- Foram criadas 3 celúlas LSTM com Dropout.\n",
    "- O uso de mais de uma célula pode melhorar os resultados.\n",
    "- A camada de Dropout evita o overfitting do modelo."
   ]
  },
  {
   "cell_type": "code",
   "execution_count": 35,
   "metadata": {},
   "outputs": [],
   "source": [
    "def crias_varias_celulas(n_celulas):\n",
    "    # Inicializo várias células\n",
    "    celulas = tf.nn.rnn_cell.MultiRNNCell([criar_uma_celula() for i in range(0, n_celulas)])\n",
    "    # Coloco droupout com valor de 0.1 \n",
    "    return tf.contrib.rnn.DropoutWrapper(celulas, input_keep_prob= 0.9) # dropout"
   ]
  },
  {
   "cell_type": "markdown",
   "metadata": {},
   "source": [
    "#### 3.5 Criando células ocultas e célula de saída\n",
    "- Criação de 3 células e 1 camada de saída;\n",
    "- Como tem 100 neurônios na camada oculta, preciso transformar em apenas um output (output_size = 1)"
   ]
  },
  {
   "cell_type": "code",
   "execution_count": 36,
   "metadata": {},
   "outputs": [
    {
     "name": "stdout",
     "output_type": "stream",
     "text": [
      "\n",
      "WARNING: The TensorFlow contrib module will not be included in TensorFlow 2.0.\n",
      "For more information, please see:\n",
      "  * https://github.com/tensorflow/community/blob/master/rfcs/20180907-contrib-sunset.md\n",
      "  * https://github.com/tensorflow/addons\n",
      "If you depend on functionality not listed there, please file an issue.\n",
      "\n",
      "WARNING:tensorflow:From <ipython-input-34-40bbab6be74d>:5: LSTMCell.__init__ (from tensorflow.python.ops.rnn_cell_impl) is deprecated and will be removed in a future version.\n",
      "Instructions for updating:\n",
      "This class is equivalent as tf.keras.layers.LSTMCell, and will be replaced by that in Tensorflow 2.0.\n",
      "WARNING:tensorflow:From <ipython-input-35-4e2cacb75cdc>:3: MultiRNNCell.__init__ (from tensorflow.python.ops.rnn_cell_impl) is deprecated and will be removed in a future version.\n",
      "Instructions for updating:\n",
      "This class is equivalent as tf.keras.layers.StackedRNNCells, and will be replaced by that in Tensorflow 2.0.\n"
     ]
    }
   ],
   "source": [
    "# Criando 3 células\n",
    "celula = crias_varias_celulas(3)\n",
    "# Criação da camada de saída,\n",
    "# Apenas uma saída, pois queremos predizer apenas um parâmetro\n",
    "celula = tf.contrib.rnn.OutputProjectionWrapper(celula, output_size= 1)"
   ]
  },
  {
   "cell_type": "markdown",
   "metadata": {},
   "source": [
    "#### 3.6 Criação da LSTM\n",
    "- É necessário ter a saída da LSTM para calcular o erro, e posteriormente otimizar o erro das previsões.\n",
    "- saida_lstm é a saída da RN, as predições\n"
   ]
  },
  {
   "cell_type": "code",
   "execution_count": 37,
   "metadata": {},
   "outputs": [
    {
     "name": "stdout",
     "output_type": "stream",
     "text": [
      "WARNING:tensorflow:From <ipython-input-37-dc35708a6001>:1: dynamic_rnn (from tensorflow.python.ops.rnn) is deprecated and will be removed in a future version.\n",
      "Instructions for updating:\n",
      "Please use `keras.layers.RNN(cell)`, which is equivalent to this API\n",
      "WARNING:tensorflow:From /home/matheusjerico/anaconda3/lib/python3.6/site-packages/tensorflow/python/ops/tensor_array_ops.py:162: colocate_with (from tensorflow.python.framework.ops) is deprecated and will be removed in a future version.\n",
      "Instructions for updating:\n",
      "Colocations handled automatically by placer.\n",
      "WARNING:tensorflow:From /home/matheusjerico/anaconda3/lib/python3.6/site-packages/tensorflow/python/ops/rnn_cell_impl.py:1259: calling dropout (from tensorflow.python.ops.nn_ops) with keep_prob is deprecated and will be removed in a future version.\n",
      "Instructions for updating:\n",
      "Please use `rate` instead of `keep_prob`. Rate should be set to `rate = 1 - keep_prob`.\n"
     ]
    }
   ],
   "source": [
    "saida_lstm,_ = tf.nn.dynamic_rnn(celula, x, dtype=tf.float32)"
   ]
  },
  {
   "cell_type": "markdown",
   "metadata": {},
   "source": [
    "#### 3.7 Erros e métricas:\n",
    "- Função para cálculo do erro: mean_squared_error.\n",
    "- Otimizador: AdamOptimizer\n",
    "\n",
    "O otimizador mais adequado, depois de vários testes, foi o Adam com learning rate = 0.001 (valor default). A função de erro escolhida foi a MSE.\n",
    "\n"
   ]
  },
  {
   "cell_type": "code",
   "execution_count": 38,
   "metadata": {},
   "outputs": [
    {
     "name": "stdout",
     "output_type": "stream",
     "text": [
      "WARNING:tensorflow:From /home/matheusjerico/anaconda3/lib/python3.6/site-packages/tensorflow/python/ops/losses/losses_impl.py:667: to_float (from tensorflow.python.ops.math_ops) is deprecated and will be removed in a future version.\n",
      "Instructions for updating:\n",
      "Use tf.cast instead.\n"
     ]
    }
   ],
   "source": [
    "# Função para o cálculo do erro\n",
    "# Parâmetros: o labels e as predições \n",
    "erro = tf.losses.mean_squared_error(labels=y, predictions=saida_lstm)\n",
    "# Otimizador\n",
    "otimizador = tf.train.AdamOptimizer()\n",
    "# Treinamento, o objetivo é minimizar o erro\n",
    "treinamento = otimizador.minimize(erro)"
   ]
  },
  {
   "cell_type": "markdown",
   "metadata": {},
   "source": [
    "#### 3.8 Inicializando variáveis globais\n"
   ]
  },
  {
   "cell_type": "code",
   "execution_count": 39,
   "metadata": {},
   "outputs": [],
   "source": [
    "init = tf.global_variables_initializer()"
   ]
  },
  {
   "cell_type": "markdown",
   "metadata": {},
   "source": [
    "#### 3.9 Definição da quantidade de épocas"
   ]
  },
  {
   "cell_type": "code",
   "execution_count": 40,
   "metadata": {},
   "outputs": [],
   "source": [
    "epocas = 500\n",
    "# Definição de quando mostrar as métricas\n",
    "n_display = epocas/10"
   ]
  },
  {
   "cell_type": "markdown",
   "metadata": {},
   "source": [
    "#### 4.0 Iniciando sessão do TensorFlow\n",
    "- Inicializa variáveis;\n",
    "- Loop de treinamento com duração das epocas definidas acima;\n",
    "- Rodar treinamento da rede:\n",
    "    - parâmetros: otimizador do erro, e função para cálculo do erro\n",
    "- Realizar previsão."
   ]
  },
  {
   "cell_type": "code",
   "execution_count": 41,
   "metadata": {},
   "outputs": [
    {
     "name": "stdout",
     "output_type": "stream",
     "text": [
      "Epoca: 0 \terro (MSE): 0.40047383\n",
      "Epoca: 50 \terro (MSE): 0.035123102\n",
      "Epoca: 100 \terro (MSE): 0.030759502\n",
      "Epoca: 150 \terro (MSE): 0.026113607\n",
      "Epoca: 200 \terro (MSE): 0.024743484\n",
      "Epoca: 250 \terro (MSE): 0.023512581\n",
      "Epoca: 300 \terro (MSE): 0.02506275\n",
      "Epoca: 350 \terro (MSE): 0.022968644\n",
      "Epoca: 400 \terro (MSE): 0.024732158\n",
      "Epoca: 450 \terro (MSE): 0.024120487\n",
      "Epoca: 500 \terro (MSE): 0.023998965\n"
     ]
    }
   ],
   "source": [
    "# Inicio a sessão para treinamento e previsão\n",
    "with tf.Session() as sess:\n",
    "    sess.run(init)\n",
    "    # Loop de épocas\n",
    "    for epoca in range(epocas+1):\n",
    "        # Faço o treinamento e passo os parâmetros que são utilizados nas funções \n",
    "        # 'tf.nn.dynamic_rnn' e 'tf.losses.mean_squared_error'\n",
    "        _, loss = sess.run([treinamento, erro], feed_dict = {x: X_batch, y: y_batch})\n",
    "        if epoca % n_display == 0:\n",
    "            print('Epoca:', epoca, '\\terro (MSE):', loss)\n",
    "    \n",
    "    # Realizando predições\n",
    "    previsoes = sess.run(saida_lstm, feed_dict = {x: X_teste})"
   ]
  },
  {
   "cell_type": "markdown",
   "metadata": {},
   "source": [
    "### 4. Resultados"
   ]
  },
  {
   "cell_type": "markdown",
   "metadata": {},
   "source": [
    "Variáveis estão no formato tensor flow (3 dimensões), uso método ravel para mudar suas dimensões"
   ]
  },
  {
   "cell_type": "code",
   "execution_count": 42,
   "metadata": {},
   "outputs": [
    {
     "name": "stdout",
     "output_type": "stream",
     "text": [
      "(2, 100, 1)\n",
      "(200,)\n"
     ]
    }
   ],
   "source": [
    "y_teste_normal = np.ravel(y_teste)\n",
    "print(y_teste.shape)\n",
    "print(y_teste_normal.shape)"
   ]
  },
  {
   "cell_type": "code",
   "execution_count": 43,
   "metadata": {},
   "outputs": [
    {
     "name": "stdout",
     "output_type": "stream",
     "text": [
      "(2, 100, 1)\n",
      "(200,)\n"
     ]
    }
   ],
   "source": [
    "previsoes_normal = np.ravel(previsoes)\n",
    "print(previsoes.shape)\n",
    "print(previsoes_normal.shape)"
   ]
  },
  {
   "cell_type": "markdown",
   "metadata": {},
   "source": [
    "A métrica Classification report mostra as métricas de precision, recall e f1-score\n",
    "\n"
   ]
  },
  {
   "cell_type": "code",
   "execution_count": 44,
   "metadata": {},
   "outputs": [],
   "source": [
    "from sklearn.metrics import classification_report\n"
   ]
  },
  {
   "cell_type": "code",
   "execution_count": 45,
   "metadata": {},
   "outputs": [
    {
     "name": "stdout",
     "output_type": "stream",
     "text": [
      "                       precision    recall  f1-score   support\n",
      "\n",
      "Cliente sem potencial       0.96      0.98      0.97       120\n",
      "Cliente com potencial       0.97      0.94      0.96        80\n",
      "\n",
      "             accuracy                           0.96       200\n",
      "            macro avg       0.97      0.96      0.96       200\n",
      "         weighted avg       0.97      0.96      0.96       200\n",
      "\n"
     ]
    }
   ],
   "source": [
    "print(classification_report(y_teste_normal, abs(np.around(previsoes_normal)), \n",
    "                            target_names= ['Cliente sem potencial', 'Cliente com potencial']))"
   ]
  }
 ],
 "metadata": {
  "kernelspec": {
   "display_name": "Python 3",
   "language": "python",
   "name": "python3"
  },
  "language_info": {
   "codemirror_mode": {
    "name": "ipython",
    "version": 3
   },
   "file_extension": ".py",
   "mimetype": "text/x-python",
   "name": "python",
   "nbconvert_exporter": "python",
   "pygments_lexer": "ipython3",
   "version": "3.7.4"
  }
 },
 "nbformat": 4,
 "nbformat_minor": 2
}
